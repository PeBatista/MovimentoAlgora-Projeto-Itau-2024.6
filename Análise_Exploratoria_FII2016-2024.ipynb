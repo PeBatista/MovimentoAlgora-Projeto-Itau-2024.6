{
 "cells": [
  {
   "cell_type": "markdown",
   "id": "b8d61d7a-e26e-496c-964f-3fd10cf8ffa8",
   "metadata": {
    "jp-MarkdownHeadingCollapsed": true
   },
   "source": [
    "### Extract e mais algumas mudanças de transformação"
   ]
  },
  {
   "cell_type": "code",
   "execution_count": 18,
   "id": "568c3eaa-b668-4a89-a37e-4b4074a584f8",
   "metadata": {},
   "outputs": [
    {
     "name": "stdout",
     "output_type": "stream",
     "text": [
      "Erro ao converter coluna: Can only use .str accessor with string values!\n",
      "Erro ao converter coluna: Can only use .str accessor with string values!\n",
      "Erro ao converter coluna: could not convert string to float: '1.19 %'\n",
      "Erro ao converter coluna: could not convert string to float: '3.46 %'\n",
      "Erro ao converter coluna: could not convert string to float: '6.85 %'\n",
      "Erro ao converter coluna: could not convert string to float: '6.85 %'\n",
      "Erro ao converter coluna: could not convert string to float: '1.15 %'\n",
      "Erro ao converter coluna: could not convert string to float: '1.37 %'\n",
      "Erro ao converter coluna: could not convert string to float: '1.37 %'\n",
      "Erro ao converter coluna: could not convert string to float: '6.85 %'\n",
      "Erro ao converter coluna: could not convert string to float: '1.27 %'\n",
      "Erro ao converter coluna: could not convert string to float: '2.48 %'\n",
      "Erro ao converter coluna: could not convert string to float: '12.91 %'\n",
      "Erro ao converter coluna: Can only use .str accessor with string values!\n",
      "Erro ao converter coluna: could not convert string to float: '1.27 %'\n",
      "Erro ao converter coluna: could not convert string to float: '0.00 %'\n",
      "Erro ao converter coluna: could not convert string to float: '0.00 %'\n",
      "Erro ao converter coluna: could not convert string to float: '0.00 %'\n",
      "Erro ao converter coluna: could not convert string to float: '0.00 %'\n",
      "Erro ao converter coluna: could not convert string to float: '0.0000%'\n",
      "Erro ao converter coluna: could not convert string to float: '17.9000%'\n"
     ]
    }
   ],
   "source": [
    "import pandas as pd\n",
    "import matplotlib.pyplot as plt\n",
    "import seaborn as sns\n",
    "import pandasql as ps\n",
    "import numpy as np\n",
    "from pyspark.sql import SparkSession\n",
    "import plotly.express as px\n",
    "\n",
    "algora = pd.read_csv('algoraquant.csv')\n",
    "algora['vl_valor'] = algora['vl_valor'].fillna(0)\n",
    "algora['vl_vpa'] = algora['vl_vpa'].fillna(0)\n",
    "\n",
    "import pandas as pd\n",
    "\n",
    "# Exemplo de DataFrame\n",
    "# algora = pd.DataFrame({\n",
    "#     'vl_vpa': ['1,8100', '2,0000', '1.056.2292', 3.5000],  # Valores mistos\n",
    "#     'vl_valor': ['4,33%', '2,50%', '5,00%']\n",
    "# })\n",
    "\n",
    "# Função para calcular o novo valor\n",
    "def calcular_valor_normal(row):\n",
    "    # Limpa e formata 'vl_vpa' antes de converter para float\n",
    "    vpa_str = str(row['vl_vpa']).replace('.', '').replace(',', '.').strip()  # Remove milhar e converte decimal\n",
    "    try:\n",
    "        vpa = float(vpa_str)  # Converte para float\n",
    "    except ValueError:\n",
    "        return None  # Retorna None se a conversão falhar\n",
    "    \n",
    "    # Remove o '%' e substitui a vírgula por ponto, depois converte para float\n",
    "    variacao = float(row['vl_valor'].replace('%', '').replace(',', '.'))\n",
    "    \n",
    "    # Calcula o novo valor\n",
    "    novo_valor = vpa * (1 + variacao / 100)\n",
    "    return novo_valor\n",
    "\n",
    "# Filtra as linhas onde 'vl_valor' contém '%'\n",
    "filtro_percentual = algora['vl_valor'].str.contains('%', na=False)\n",
    "\n",
    "# Aplica o cálculo apenas para essas linhas\n",
    "algora.loc[filtro_percentual, 'vl_valor'] = algora.loc[filtro_percentual].apply(calcular_valor_normal, axis=1)\n",
    "\n",
    "import numpy as np\n",
    "\n",
    "def clean_patrimonio(value):\n",
    "    if pd.isnull(value) or value == 'NaN':\n",
    "        return 0  # Mantém como NaN para tratar depois\n",
    "    \n",
    "    value = str(value).replace('.', '').replace(',', '.')  # Normaliza ponto e vírgula\n",
    "    if '%' in value:  # Se houver porcentagem, retorna 0\n",
    "        return 0\n",
    "    \n",
    "    value = value.replace('$', '')  # Remove o cifrão se existir\n",
    "    \n",
    "    try:\n",
    "        return float(value)  # Converte para float\n",
    "    except ValueError:\n",
    "        return np.nan  # Se não puder ser convertido, retorna NaN\n",
    "\n",
    "\n",
    "# Aplicando a função na coluna 'vl_patrimonio'\n",
    "algora['vl_patrimonio'] = algora['vl_patrimonio'].apply(clean_patrimonio)\n",
    "\n",
    "# Verificando o resultado após a limpeza\n",
    "\n",
    "# Calculando a média excluindo valores iguais a 0\n",
    "mean_value_excluding_zero = algora[algora['vl_patrimonio'] != 0]['vl_patrimonio'].mean()\n",
    "\n",
    "# Substituindo os valores 0 pela média calculada\n",
    "algora['vl_patrimonio'] = algora['vl_patrimonio'].replace(0, mean_value_excluding_zero)\n",
    "\n",
    "import pandas as pd\n",
    "\n",
    "# Supondo que você já tem o DataFrame 'algora'\n",
    "\n",
    "# Lista de colunas para as quais queremos aplicar a conversão\n",
    "colunas_para_convertir = [\n",
    "    'vl_avaliacao_media_ativos_fundo', 'vl_quantidade_imoveis', 'vl_valor',\n",
    "    'vl_liquidez_media_diaria', 'vl_pvp', 'vl_dividendo', 'vl_yeld',\n",
    "    'vl_soma_yield_3m', 'vl_soma_yield_6m', 'vl_soma_yield_12m',\n",
    "    'vl_media_yield_3m', 'vl_media_yield_6m', 'vl_media_yield_12m',\n",
    "    'vl_soma_yield_ano_corrente', 'vl_variacao_cotacao_mes', 'vl_rentabilidade_mes',\n",
    "    'vl_rentabilidade', 'vl_patrimonio', 'vl_vpa', 'vl_pvpa', 'vl_vpa_yield',\n",
    "    'vl_vpa_change', 'vl_vpa_rent_m', 'vl_vpa_rent', 'vl_ativos',\n",
    "    'vl_volatility', 'vl_numero_cotista', 'vl_vacancia_fisica', 'vl_vacancia_financeira'\n",
    "]\n",
    "\n",
    "# Função para converter a coluna para float\n",
    "def converter_para_float(coluna):\n",
    "    try:\n",
    "        # Remove os pontos (separadores de milhar)\n",
    "        coluna = coluna.str.replace('.', '', regex=False)\n",
    "        # Substitui a vírgula por ponto (separador decimal)\n",
    "        coluna = coluna.str.replace(',', '.', regex=False)\n",
    "        # Converte para float\n",
    "        return coluna.astype(float)\n",
    "    except Exception as e:\n",
    "        print(f\"Erro ao converter coluna: {e}\")\n",
    "        return coluna  # Retorna a coluna original em caso de erro\n",
    "\n",
    "# Aplica a conversão para cada coluna na lista\n",
    "for coluna in colunas_para_convertir:\n",
    "    if coluna in algora.columns:\n",
    "        algora[coluna] = converter_para_float(algora[coluna])\n",
    "\n"
   ]
  },
  {
   "cell_type": "markdown",
   "id": "34cc7345-1fae-4205-8b1b-95afcb1e2d93",
   "metadata": {},
   "source": [
    "Pronto estamos prontos para começar as nossas análises exploratórias, aqui deixamos apenas valores decimais facieís de serem tratados, \n",
    "ou seja ... que não nenhum tipo de porcentagem envolvido, ficando cerca de 10 colunas de valores a serem análisados de acordo com a estatística"
   ]
  },
  {
   "cell_type": "code",
   "execution_count": 19,
   "id": "c13aabc6-8068-436c-b8e7-d1c184b958d8",
   "metadata": {},
   "outputs": [],
   "source": [
    "algora = algora.drop(columns=['Unnamed: 0','valor_decimal', 'vl_vpa_rent','vl_vpa_rent_m','vl_vpa_change','vl_vpa_yield','vl_pvpa','vl_rentabilidade',\n",
    "                              'vl_rentabilidade_mes','vl_variacao_cotacao_mes','vl_soma_yield_ano_corrente','vl_yeld', 'vl_soma_yield_3m', \n",
    "                              'vl_soma_yield_6m', 'vl_soma_yield_12m','vl_ativos', 'vl_media_yield_3m', 'vl_media_yield_6m', 'vl_media_yield_12m','vl_vacancia_financeira','vl_vacancia_fisica'])\n",
    "# prenchendo os outros títulos com os valores de Humanidade"
   ]
  },
  {
   "cell_type": "code",
   "execution_count": 20,
   "id": "97bb0270-9e98-44b4-afa5-248506bcf119",
   "metadata": {},
   "outputs": [],
   "source": [
    "numeric_columns = ['vl_media_taxa_homicidios', 'vl_avaliacao_media_ativos_fundo', 'vl_quantidade_imoveis']\n",
    "\n",
    "# Aplicamos o 'groupby' apenas nas colunas numéricas\n",
    "algora[numeric_columns] = algora.groupby('nm_titulo')[numeric_columns].transform(lambda x: x.fillna(x.mean()))"
   ]
  },
  {
   "cell_type": "markdown",
   "id": "00183cac-f8b1-418f-b348-95cd3644cffd",
   "metadata": {
    "jp-MarkdownHeadingCollapsed": true
   },
   "source": [
    "### Query para realização de Exploração e Divisão de Informações dentro do Algora com linguagem SQL - Que mais domínio"
   ]
  },
  {
   "cell_type": "markdown",
   "id": "841ccf4b-f0a3-470f-9561-e7eaf28d32dc",
   "metadata": {},
   "source": [
    "nm_titulo\r\n",
    "0\tCPTS11B\r\n",
    "1\tFIXX11\r\n",
    "2\tRBBV11\r\n",
    "3\tBZLI11\r\n",
    "4\tUBSR11\r\n",
    "5\tOUCY11\r\n",
    "6\tFOFT11\r\n",
    "7\tAFOF11\r\n",
    "8\tIFIE11\r\n",
    "9\tRBIV11\r\n",
    "10\tIFID11\r\n",
    "11\tQIFF11\r\n",
    "12\tEQIN11\r\n",
    "13\tATSA11B\r\n",
    "14\tWPLZ11B\r\n",
    "15\tFIVN11\r\n",
    "16\tHMOC11\r\n",
    "17\tDMAC11\r\n",
    "18\tGRLV11\r\n",
    "19\tTRXL11\r\n",
    "20\tHGJH11\r\n",
    "21\tDOMC11\r\n",
    "22\tTBOF11\r\n",
    "23\tBBVJ11\r\n",
    "24\tBMLC11B\r\n",
    "25\tFFCI11\r\n",
    "26\tRDES11\r\n",
    "27\tFVBI11\r\n",
    "\n",
    "\n",
    "Fundos que não existem ou pararam de existir ao longo dos anos ... 2016 até 202428\tTHRA11\r\n",
    "29\tGWIR11\r\n",
    "30\tAFCR11"
   ]
  },
  {
   "cell_type": "code",
   "execution_count": 103,
   "id": "12793bc7-6faa-4288-ad76-1a560cc05951",
   "metadata": {},
   "outputs": [
    {
     "name": "stdout",
     "output_type": "stream",
     "text": [
      "Temos 1323 linhas e 14 colunas\n"
     ]
    },
    {
     "data": {
      "text/html": [
       "<div>\n",
       "<style scoped>\n",
       "    .dataframe tbody tr th:only-of-type {\n",
       "        vertical-align: middle;\n",
       "    }\n",
       "\n",
       "    .dataframe tbody tr th {\n",
       "        vertical-align: top;\n",
       "    }\n",
       "\n",
       "    .dataframe thead th {\n",
       "        text-align: right;\n",
       "    }\n",
       "</style>\n",
       "<table border=\"1\" class=\"dataframe\">\n",
       "  <thead>\n",
       "    <tr style=\"text-align: right;\">\n",
       "      <th></th>\n",
       "      <th>vl_media_taxa_homicidios</th>\n",
       "      <th>vl_avaliacao_media_ativos_fundo</th>\n",
       "      <th>vl_quantidade_imoveis</th>\n",
       "      <th>vl_valor</th>\n",
       "      <th>vl_liquidez_media_diaria</th>\n",
       "      <th>vl_pvp</th>\n",
       "      <th>vl_dividendo</th>\n",
       "      <th>vl_patrimonio</th>\n",
       "      <th>vl_vpa</th>\n",
       "      <th>vl_volatility</th>\n",
       "      <th>vl_numero_cotista</th>\n",
       "    </tr>\n",
       "  </thead>\n",
       "  <tbody>\n",
       "    <tr>\n",
       "      <th>count</th>\n",
       "      <td>1319.000000</td>\n",
       "      <td>1319.000000</td>\n",
       "      <td>1319.000000</td>\n",
       "      <td>1268.000000</td>\n",
       "      <td>8.890000e+02</td>\n",
       "      <td>667.000000</td>\n",
       "      <td>1323.000000</td>\n",
       "      <td>1.323000e+03</td>\n",
       "      <td>1.273000e+03</td>\n",
       "      <td>117.000000</td>\n",
       "      <td>126.000000</td>\n",
       "    </tr>\n",
       "    <tr>\n",
       "      <th>mean</th>\n",
       "      <td>25.808007</td>\n",
       "      <td>1.808879</td>\n",
       "      <td>5.702805</td>\n",
       "      <td>580.490733</td>\n",
       "      <td>5.496947e+05</td>\n",
       "      <td>0.780585</td>\n",
       "      <td>10.468866</td>\n",
       "      <td>5.105262e+08</td>\n",
       "      <td>2.262341e+08</td>\n",
       "      <td>32.724701</td>\n",
       "      <td>31818.896825</td>\n",
       "    </tr>\n",
       "    <tr>\n",
       "      <th>std</th>\n",
       "      <td>30.705603</td>\n",
       "      <td>1.973797</td>\n",
       "      <td>10.505418</td>\n",
       "      <td>5061.953931</td>\n",
       "      <td>1.561970e+06</td>\n",
       "      <td>0.261519</td>\n",
       "      <td>102.330003</td>\n",
       "      <td>2.449180e+08</td>\n",
       "      <td>5.643983e+08</td>\n",
       "      <td>42.140137</td>\n",
       "      <td>73244.209018</td>\n",
       "    </tr>\n",
       "    <tr>\n",
       "      <th>min</th>\n",
       "      <td>0.000000</td>\n",
       "      <td>0.000000</td>\n",
       "      <td>0.000000</td>\n",
       "      <td>0.630000</td>\n",
       "      <td>1.000000e+01</td>\n",
       "      <td>0.030000</td>\n",
       "      <td>0.000000</td>\n",
       "      <td>7.837018e+06</td>\n",
       "      <td>5.100000e-01</td>\n",
       "      <td>0.870000</td>\n",
       "      <td>0.000000</td>\n",
       "    </tr>\n",
       "    <tr>\n",
       "      <th>25%</th>\n",
       "      <td>0.000000</td>\n",
       "      <td>0.000000</td>\n",
       "      <td>1.000000</td>\n",
       "      <td>56.990000</td>\n",
       "      <td>1.222000e+04</td>\n",
       "      <td>0.620000</td>\n",
       "      <td>0.370000</td>\n",
       "      <td>5.084478e+08</td>\n",
       "      <td>1.010100e+02</td>\n",
       "      <td>13.330000</td>\n",
       "      <td>385.000000</td>\n",
       "    </tr>\n",
       "    <tr>\n",
       "      <th>50%</th>\n",
       "      <td>18.050000</td>\n",
       "      <td>0.000000</td>\n",
       "      <td>2.000000</td>\n",
       "      <td>90.045000</td>\n",
       "      <td>7.440321e+04</td>\n",
       "      <td>0.830000</td>\n",
       "      <td>0.650000</td>\n",
       "      <td>5.084478e+08</td>\n",
       "      <td>3.213400e+02</td>\n",
       "      <td>17.930000</td>\n",
       "      <td>3472.500000</td>\n",
       "    </tr>\n",
       "    <tr>\n",
       "      <th>75%</th>\n",
       "      <td>40.440000</td>\n",
       "      <td>4.008333</td>\n",
       "      <td>5.000000</td>\n",
       "      <td>119.525000</td>\n",
       "      <td>4.311441e+05</td>\n",
       "      <td>0.970000</td>\n",
       "      <td>0.940000</td>\n",
       "      <td>5.084478e+08</td>\n",
       "      <td>2.077166e+08</td>\n",
       "      <td>35.440000</td>\n",
       "      <td>19131.250000</td>\n",
       "    </tr>\n",
       "    <tr>\n",
       "      <th>max</th>\n",
       "      <td>115.600000</td>\n",
       "      <td>5.000000</td>\n",
       "      <td>72.000000</td>\n",
       "      <td>76000.000000</td>\n",
       "      <td>1.802576e+07</td>\n",
       "      <td>2.180000</td>\n",
       "      <td>1915.690000</td>\n",
       "      <td>5.336625e+09</td>\n",
       "      <td>5.331568e+09</td>\n",
       "      <td>354.880000</td>\n",
       "      <td>481964.000000</td>\n",
       "    </tr>\n",
       "  </tbody>\n",
       "</table>\n",
       "</div>"
      ],
      "text/plain": [
       "       vl_media_taxa_homicidios  vl_avaliacao_media_ativos_fundo  \\\n",
       "count               1319.000000                      1319.000000   \n",
       "mean                  25.808007                         1.808879   \n",
       "std                   30.705603                         1.973797   \n",
       "min                    0.000000                         0.000000   \n",
       "25%                    0.000000                         0.000000   \n",
       "50%                   18.050000                         0.000000   \n",
       "75%                   40.440000                         4.008333   \n",
       "max                  115.600000                         5.000000   \n",
       "\n",
       "       vl_quantidade_imoveis      vl_valor  vl_liquidez_media_diaria  \\\n",
       "count            1319.000000   1268.000000              8.890000e+02   \n",
       "mean                5.702805    580.490733              5.496947e+05   \n",
       "std                10.505418   5061.953931              1.561970e+06   \n",
       "min                 0.000000      0.630000              1.000000e+01   \n",
       "25%                 1.000000     56.990000              1.222000e+04   \n",
       "50%                 2.000000     90.045000              7.440321e+04   \n",
       "75%                 5.000000    119.525000              4.311441e+05   \n",
       "max                72.000000  76000.000000              1.802576e+07   \n",
       "\n",
       "           vl_pvp  vl_dividendo  vl_patrimonio        vl_vpa  vl_volatility  \\\n",
       "count  667.000000   1323.000000   1.323000e+03  1.273000e+03     117.000000   \n",
       "mean     0.780585     10.468866   5.105262e+08  2.262341e+08      32.724701   \n",
       "std      0.261519    102.330003   2.449180e+08  5.643983e+08      42.140137   \n",
       "min      0.030000      0.000000   7.837018e+06  5.100000e-01       0.870000   \n",
       "25%      0.620000      0.370000   5.084478e+08  1.010100e+02      13.330000   \n",
       "50%      0.830000      0.650000   5.084478e+08  3.213400e+02      17.930000   \n",
       "75%      0.970000      0.940000   5.084478e+08  2.077166e+08      35.440000   \n",
       "max      2.180000   1915.690000   5.336625e+09  5.331568e+09     354.880000   \n",
       "\n",
       "       vl_numero_cotista  \n",
       "count         126.000000  \n",
       "mean        31818.896825  \n",
       "std         73244.209018  \n",
       "min             0.000000  \n",
       "25%           385.000000  \n",
       "50%          3472.500000  \n",
       "75%         19131.250000  \n",
       "max        481964.000000  "
      ]
     },
     "execution_count": 103,
     "metadata": {},
     "output_type": "execute_result"
    }
   ],
   "source": [
    "query = \"\"\"\n",
    "SELECT *\n",
    "FROM algora\n",
    "WHERE \n",
    "  dt_inclusao > '2021-08-15'\n",
    "  AND UPPER(TRIM(nm_setor)) NOT IN ('OUTROS', \n",
    "    'INDEFINIDO', \n",
    "    'INDEFINIDO2016', \n",
    "    'INDEFINIDO2015', \n",
    "    'INDEFINIDO2017', \n",
    "    'MISTO', \n",
    "    'HíBRIDO', \n",
    "    'PAPéIS', \n",
    "    'IMÓVEIS COMERCIAIS - OUTROS', \n",
    "    'AGêNCIAS DE BANCOS', \n",
    "    'SERVIÇOS FINANCEIROS DIVERSOS', \n",
    "    'RENDA', \n",
    "    'HOTEL', \n",
    "    'HOTéIS', \n",
    "    'SHOPPING', \n",
    "    'SHOPPINGS', \n",
    "    'IMóVEIS RESIDENCIAIS',\n",
    "    'IMóVEIS COMERCIAIS - OUTROS',\n",
    "    'SERVIÇOS FINANCEIROS DIVERSOS',\n",
    "    'TíTULOS E VAL. MOB.',\n",
    "    'FUNDO DE FUNDOS', \n",
    "    'FUNDO DE DESENVOLVIMENTO', \n",
    "    'SERVIÇOS FINANCEIROS DIVERSOS', \n",
    "    'TíTULOS E VALORES MOBILIáRIOS')\n",
    "ORDER BY dt_inclusao DESC\n",
    "\"\"\"\n",
    "\n",
    "print(f\"Temos {ps.sqldf(query, locals()).shape[0]} linhas e {ps.sqldf(query, locals()).shape[1]} colunas\")\n",
    "gora = ps.sqldf(query, locals())\n",
    "gora.vl_patrimonio = gora.vl_patrimonio.fillna(0)\n",
    "gora.vl_patrimonio = gora.vl_patrimonio.replace(0, mean_value_excluding_zero)\n",
    "gora.describe()"
   ]
  },
  {
   "cell_type": "code",
   "execution_count": 104,
   "id": "351696c3-77c5-482b-a18d-dbd8125f48b9",
   "metadata": {},
   "outputs": [
    {
     "data": {
      "text/html": [
       "<div>\n",
       "<style scoped>\n",
       "    .dataframe tbody tr th:only-of-type {\n",
       "        vertical-align: middle;\n",
       "    }\n",
       "\n",
       "    .dataframe tbody tr th {\n",
       "        vertical-align: top;\n",
       "    }\n",
       "\n",
       "    .dataframe thead th {\n",
       "        text-align: right;\n",
       "    }\n",
       "</style>\n",
       "<table border=\"1\" class=\"dataframe\">\n",
       "  <thead>\n",
       "    <tr style=\"text-align: right;\">\n",
       "      <th></th>\n",
       "      <th>vl_media_taxa_homicidios</th>\n",
       "      <th>vl_avaliacao_media_ativos_fundo</th>\n",
       "      <th>vl_quantidade_imoveis</th>\n",
       "      <th>vl_valor</th>\n",
       "      <th>vl_liquidez_media_diaria</th>\n",
       "      <th>vl_pvp</th>\n",
       "      <th>vl_dividendo</th>\n",
       "      <th>vl_patrimonio</th>\n",
       "      <th>vl_vpa</th>\n",
       "      <th>vl_volatility</th>\n",
       "      <th>vl_numero_cotista</th>\n",
       "    </tr>\n",
       "  </thead>\n",
       "  <tbody>\n",
       "    <tr>\n",
       "      <th>count</th>\n",
       "      <td>1319.000000</td>\n",
       "      <td>1319.000000</td>\n",
       "      <td>1319.000000</td>\n",
       "      <td>1268.000000</td>\n",
       "      <td>8.890000e+02</td>\n",
       "      <td>667.000000</td>\n",
       "      <td>1323.000000</td>\n",
       "      <td>1.323000e+03</td>\n",
       "      <td>1.273000e+03</td>\n",
       "      <td>117.000000</td>\n",
       "      <td>126.000000</td>\n",
       "    </tr>\n",
       "    <tr>\n",
       "      <th>mean</th>\n",
       "      <td>25.808007</td>\n",
       "      <td>1.808879</td>\n",
       "      <td>5.702805</td>\n",
       "      <td>580.490733</td>\n",
       "      <td>5.496947e+05</td>\n",
       "      <td>0.780585</td>\n",
       "      <td>10.468866</td>\n",
       "      <td>5.105262e+08</td>\n",
       "      <td>2.262341e+08</td>\n",
       "      <td>32.724701</td>\n",
       "      <td>31818.896825</td>\n",
       "    </tr>\n",
       "    <tr>\n",
       "      <th>std</th>\n",
       "      <td>30.705603</td>\n",
       "      <td>1.973797</td>\n",
       "      <td>10.505418</td>\n",
       "      <td>5061.953931</td>\n",
       "      <td>1.561970e+06</td>\n",
       "      <td>0.261519</td>\n",
       "      <td>102.330003</td>\n",
       "      <td>2.449180e+08</td>\n",
       "      <td>5.643983e+08</td>\n",
       "      <td>42.140137</td>\n",
       "      <td>73244.209018</td>\n",
       "    </tr>\n",
       "    <tr>\n",
       "      <th>min</th>\n",
       "      <td>0.000000</td>\n",
       "      <td>0.000000</td>\n",
       "      <td>0.000000</td>\n",
       "      <td>0.630000</td>\n",
       "      <td>1.000000e+01</td>\n",
       "      <td>0.030000</td>\n",
       "      <td>0.000000</td>\n",
       "      <td>7.837018e+06</td>\n",
       "      <td>5.100000e-01</td>\n",
       "      <td>0.870000</td>\n",
       "      <td>0.000000</td>\n",
       "    </tr>\n",
       "    <tr>\n",
       "      <th>25%</th>\n",
       "      <td>0.000000</td>\n",
       "      <td>0.000000</td>\n",
       "      <td>1.000000</td>\n",
       "      <td>56.990000</td>\n",
       "      <td>1.222000e+04</td>\n",
       "      <td>0.620000</td>\n",
       "      <td>0.370000</td>\n",
       "      <td>5.084478e+08</td>\n",
       "      <td>1.010100e+02</td>\n",
       "      <td>13.330000</td>\n",
       "      <td>385.000000</td>\n",
       "    </tr>\n",
       "    <tr>\n",
       "      <th>50%</th>\n",
       "      <td>18.050000</td>\n",
       "      <td>0.000000</td>\n",
       "      <td>2.000000</td>\n",
       "      <td>90.045000</td>\n",
       "      <td>7.440321e+04</td>\n",
       "      <td>0.830000</td>\n",
       "      <td>0.650000</td>\n",
       "      <td>5.084478e+08</td>\n",
       "      <td>3.213400e+02</td>\n",
       "      <td>17.930000</td>\n",
       "      <td>3472.500000</td>\n",
       "    </tr>\n",
       "    <tr>\n",
       "      <th>75%</th>\n",
       "      <td>40.440000</td>\n",
       "      <td>4.008333</td>\n",
       "      <td>5.000000</td>\n",
       "      <td>119.525000</td>\n",
       "      <td>4.311441e+05</td>\n",
       "      <td>0.970000</td>\n",
       "      <td>0.940000</td>\n",
       "      <td>5.084478e+08</td>\n",
       "      <td>2.077166e+08</td>\n",
       "      <td>35.440000</td>\n",
       "      <td>19131.250000</td>\n",
       "    </tr>\n",
       "    <tr>\n",
       "      <th>max</th>\n",
       "      <td>115.600000</td>\n",
       "      <td>5.000000</td>\n",
       "      <td>72.000000</td>\n",
       "      <td>76000.000000</td>\n",
       "      <td>1.802576e+07</td>\n",
       "      <td>2.180000</td>\n",
       "      <td>1915.690000</td>\n",
       "      <td>5.336625e+09</td>\n",
       "      <td>5.331568e+09</td>\n",
       "      <td>354.880000</td>\n",
       "      <td>481964.000000</td>\n",
       "    </tr>\n",
       "  </tbody>\n",
       "</table>\n",
       "</div>"
      ],
      "text/plain": [
       "       vl_media_taxa_homicidios  vl_avaliacao_media_ativos_fundo  \\\n",
       "count               1319.000000                      1319.000000   \n",
       "mean                  25.808007                         1.808879   \n",
       "std                   30.705603                         1.973797   \n",
       "min                    0.000000                         0.000000   \n",
       "25%                    0.000000                         0.000000   \n",
       "50%                   18.050000                         0.000000   \n",
       "75%                   40.440000                         4.008333   \n",
       "max                  115.600000                         5.000000   \n",
       "\n",
       "       vl_quantidade_imoveis      vl_valor  vl_liquidez_media_diaria  \\\n",
       "count            1319.000000   1268.000000              8.890000e+02   \n",
       "mean                5.702805    580.490733              5.496947e+05   \n",
       "std                10.505418   5061.953931              1.561970e+06   \n",
       "min                 0.000000      0.630000              1.000000e+01   \n",
       "25%                 1.000000     56.990000              1.222000e+04   \n",
       "50%                 2.000000     90.045000              7.440321e+04   \n",
       "75%                 5.000000    119.525000              4.311441e+05   \n",
       "max                72.000000  76000.000000              1.802576e+07   \n",
       "\n",
       "           vl_pvp  vl_dividendo  vl_patrimonio        vl_vpa  vl_volatility  \\\n",
       "count  667.000000   1323.000000   1.323000e+03  1.273000e+03     117.000000   \n",
       "mean     0.780585     10.468866   5.105262e+08  2.262341e+08      32.724701   \n",
       "std      0.261519    102.330003   2.449180e+08  5.643983e+08      42.140137   \n",
       "min      0.030000      0.000000   7.837018e+06  5.100000e-01       0.870000   \n",
       "25%      0.620000      0.370000   5.084478e+08  1.010100e+02      13.330000   \n",
       "50%      0.830000      0.650000   5.084478e+08  3.213400e+02      17.930000   \n",
       "75%      0.970000      0.940000   5.084478e+08  2.077166e+08      35.440000   \n",
       "max      2.180000   1915.690000   5.336625e+09  5.331568e+09     354.880000   \n",
       "\n",
       "       vl_numero_cotista  \n",
       "count         126.000000  \n",
       "mean        31818.896825  \n",
       "std         73244.209018  \n",
       "min             0.000000  \n",
       "25%           385.000000  \n",
       "50%          3472.500000  \n",
       "75%         19131.250000  \n",
       "max        481964.000000  "
      ]
     },
     "execution_count": 104,
     "metadata": {},
     "output_type": "execute_result"
    }
   ],
   "source": [
    "gora.describe()"
   ]
  },
  {
   "cell_type": "markdown",
   "id": "9ddb3947-782b-4159-b3bf-29b806e4908d",
   "metadata": {
    "jp-MarkdownHeadingCollapsed": true
   },
   "source": [
    "### Linha do Tempo Simplificada:\n",
    "\n",
    "- **2016 - 2018**: Recuperação econômica lenta após recessão, juros elevados, FIIs em expansão inicial.\n",
    "- **Junho de 2019**: Corte agressivo da Selic, cenário favorável para os FIIs.\n",
    "- **2020 - 2021**: Pandemia de COVID-19 causa volatilidade, especialmente em FIIs de shoppings e escritórios.\n",
    "- **2022 - 2024**: Retomada do mercado, elevação da Selic impacta o retorno dos FIIs, mas setores como logística e recebíveis ganham força.\n"
   ]
  },
  {
   "cell_type": "markdown",
   "id": "85d61efd-d691-4de3-b362-cbe879e40149",
   "metadata": {
    "jp-MarkdownHeadingCollapsed": true
   },
   "source": [
    "### Iniciando na Modelagem KMEANS"
   ]
  },
  {
   "cell_type": "markdown",
   "id": "6bfb45c5-08c9-437d-8f29-6e10c5eb4fe3",
   "metadata": {},
   "source": [
    "Detectando Outliers dentro de cada variável, avaliar possível exclusão antes de qualquer coisa."
   ]
  },
  {
   "cell_type": "code",
   "execution_count": 19,
   "id": "21925009-c5c6-4c46-845f-fe0d7f234507",
   "metadata": {},
   "outputs": [
    {
     "name": "stdout",
     "output_type": "stream",
     "text": [
      "Outliers em nm_titulo:\n",
      "0       DLMT11\n",
      "1       ERCR11\n",
      "2       MAXR11\n",
      "3       RBRD11\n",
      "4       RBVA11\n",
      "         ...  \n",
      "5463    BBRC11\n",
      "5464    BNFS11\n",
      "5465    CXAG11\n",
      "5466    TVRI11\n",
      "5467    NEXG11\n",
      "Name: nm_titulo, Length: 5468, dtype: object\n",
      "Outliers em vl_media_taxa_homicidios:\n",
      "0        0.000000\n",
      "1        0.000000\n",
      "2       59.655556\n",
      "3       36.100000\n",
      "4       53.511111\n",
      "          ...    \n",
      "5463    36.100000\n",
      "5464    81.100000\n",
      "5465     0.000000\n",
      "5466    50.458333\n",
      "5467     0.000000\n",
      "Name: vl_media_taxa_homicidios, Length: 5468, dtype: float64\n",
      "Outliers em vl_avaliacao_media_ativos_fundo:\n",
      "0       0.000000\n",
      "1       0.000000\n",
      "2       4.411111\n",
      "3       3.600000\n",
      "4       3.158333\n",
      "          ...   \n",
      "5463    3.495000\n",
      "5464    3.335294\n",
      "5465    0.000000\n",
      "5466    3.450000\n",
      "5467    0.000000\n",
      "Name: vl_avaliacao_media_ativos_fundo, Length: 5468, dtype: float64\n",
      "Outliers em vl_quantidade_imoveis:\n",
      "0        5.0\n",
      "1        0.0\n",
      "2        9.0\n",
      "3        4.0\n",
      "4       72.0\n",
      "        ... \n",
      "5463    20.0\n",
      "5464    18.0\n",
      "5465    32.0\n",
      "5466    61.0\n",
      "5467     0.0\n",
      "Name: vl_quantidade_imoveis, Length: 5468, dtype: float64\n",
      "Outliers em nm_setor:\n",
      "0                   Varejo\n",
      "1                   Varejo\n",
      "2                   Varejo\n",
      "3                   Varejo\n",
      "4                   Varejo\n",
      "               ...        \n",
      "5463    Agências de Bancos\n",
      "5464    Agências de Bancos\n",
      "5465    Agências de Bancos\n",
      "5466    Agências de Bancos\n",
      "5467           Agricultura\n",
      "Name: nm_setor, Length: 5468, dtype: object\n",
      "Outliers em vl_valor:\n",
      "0            NaN\n",
      "1       20926.30\n",
      "2          78.90\n",
      "3          38.35\n",
      "4         105.05\n",
      "          ...   \n",
      "5463      113.93\n",
      "5464      122.00\n",
      "5465       79.35\n",
      "5466      104.24\n",
      "5467      112.20\n",
      "Name: vl_valor, Length: 5468, dtype: float64\n",
      "Outliers em vl_liquidez_media_diaria:\n",
      "0              NaN\n",
      "1              NaN\n",
      "2         33556.22\n",
      "3         17876.43\n",
      "4        644988.53\n",
      "           ...    \n",
      "5463     135421.29\n",
      "5464      85389.33\n",
      "5465      98912.71\n",
      "5466    1233391.75\n",
      "5467      14635.60\n",
      "Name: vl_liquidez_media_diaria, Length: 5468, dtype: float64\n",
      "Outliers em vl_pvp:\n",
      "0        NaN\n",
      "1       0.69\n",
      "2       0.61\n",
      "3       0.57\n",
      "4       0.97\n",
      "        ... \n",
      "5463    1.11\n",
      "5464    1.44\n",
      "5465    0.69\n",
      "5466    1.03\n",
      "5467    1.17\n",
      "Name: vl_pvp, Length: 5468, dtype: float64\n",
      "Outliers em vl_dividendo:\n",
      "0         0.00\n",
      "1       883.75\n",
      "2         0.72\n",
      "3         0.38\n",
      "4         1.00\n",
      "         ...  \n",
      "5463      1.10\n",
      "5464      1.42\n",
      "5465      0.69\n",
      "5466      0.97\n",
      "5467      0.99\n",
      "Name: vl_dividendo, Length: 5468, dtype: float64\n",
      "Outliers em vl_patrimonio:\n",
      "0          7837018.39\n",
      "1         72333220.90\n",
      "2        145557707.60\n",
      "3        125712273.60\n",
      "4       1349088023.45\n",
      "            ...      \n",
      "5463           3.44 %\n",
      "5464           3.90 %\n",
      "5465           5.97 %\n",
      "5466          17.55 %\n",
      "5467      17956943.70\n",
      "Name: vl_patrimonio, Length: 5468, dtype: object\n",
      "Outliers em vl_vpa:\n",
      "0                NaN\n",
      "1       3.044327e+04\n",
      "2       1.293100e+02\n",
      "3       6.789000e+01\n",
      "4       1.080500e+02\n",
      "            ...     \n",
      "5463    1.632057e+08\n",
      "5464    5.927642e+07\n",
      "5465    2.416148e+08\n",
      "5466    1.613190e+09\n",
      "5467    9.624000e+01\n",
      "Name: vl_vpa, Length: 5468, dtype: float64\n",
      "Outliers em vl_volatility:\n",
      "0         NaN\n",
      "1         NaN\n",
      "2       19.19\n",
      "3       21.31\n",
      "4       11.29\n",
      "        ...  \n",
      "5463      NaN\n",
      "5464      NaN\n",
      "5465      NaN\n",
      "5466      NaN\n",
      "5467     3.73\n",
      "Name: vl_volatility, Length: 5468, dtype: float64\n",
      "Outliers em vl_numero_cotista:\n",
      "0           9.0\n",
      "1          11.0\n",
      "2        4348.0\n",
      "3        8162.0\n",
      "4       63287.0\n",
      "         ...   \n",
      "5463        NaN\n",
      "5464        NaN\n",
      "5465        NaN\n",
      "5466        NaN\n",
      "5467      382.0\n",
      "Name: vl_numero_cotista, Length: 5468, dtype: float64\n",
      "Outliers em dt_inclusao:\n",
      "0       2024-09-01\n",
      "1       2024-09-01\n",
      "2       2024-09-01\n",
      "3       2024-09-01\n",
      "4       2024-09-01\n",
      "           ...    \n",
      "5463    2024-06-01\n",
      "5464    2024-06-01\n",
      "5465    2024-06-01\n",
      "5466    2024-06-01\n",
      "5467    2024-09-01\n",
      "Name: dt_inclusao, Length: 5468, dtype: object\n"
     ]
    }
   ],
   "source": [
    "dados_numericos = algora.select_dtypes(include=['float64', 'int64'])\n",
    "\n",
    "# Definir função para detectar outliers com base no IQR\n",
    "def detectar_outliers_iqr(df):\n",
    "    outliers = {}\n",
    "    for coluna in df.columns:\n",
    "        Q1 = df[coluna].quantile(0.25)\n",
    "        Q3 = df[coluna].quantile(0.75)\n",
    "        IQR = Q3 - Q1\n",
    "        limite_inferior = Q1 - 1.5 * IQR\n",
    "        limite_superior = Q3 + 1.5 * IQR\n",
    "        outliers[coluna] = df[(df[coluna] < limite_inferior) | (df[coluna] > limite_superior)][coluna]\n",
    "    return outliers\n",
    "\n",
    "# Aplicar a função aos dados numéricos\n",
    "outliers = detectar_outliers_iqr(dados_numericos)\n",
    "\n",
    "# Mostrar os outliers detectados\n",
    "for coluna, outlier_values in algora.items():\n",
    "    print(f'Outliers em {coluna}:')\n",
    "    print(outlier_values)"
   ]
  },
  {
   "cell_type": "markdown",
   "id": "d982ad09-57b0-471a-9f2c-2da0286ea0e4",
   "metadata": {},
   "source": [
    "### Análise de Clusterização e Predição de FIIs Baseado em Dividendos\n",
    "\n",
    "\n",
    "## 2. Normalização dos Dados\n",
    "Normalizamos os dados para garantir que as variáveis estejam na mesma escala, o que é fundamental para a clusterização. Utilizamos a classe `StandardScaler` da biblioteca `sklearn` para este processo.\n",
    "\n",
    "## 3. Determinação do Número de Clusters\n",
    "Para determinar o número ideal de clusters, utilizamos o **método do cotovelo**:\n",
    "- Treinamos o modelo de `KMeans` para diferentes valores de K (de 1 a 10).\n",
    "- Plotamos o gráfico de inércia para visualizar o ponto de inflexão, que indica o número ótimo de clusters.\n",
    "- **Escolha de 3 clusters**: Observamos que 3 clusters era um bom ponto para segmentação, onde o gráfico mostrava uma queda significativa da inércia.\n",
    "\n",
    "## 4. Clusterização\n",
    "Aplicamos o algoritmo de `KMeans` com **3 clusters** para dividir os FIIs em perfis de risco baseados em suas características. A partir dos resultados:\n",
    "- Adicionamos os rótulos dos clusters ao DataFrame original.\n",
    "- Calculamos a média das variáveis em cada cluster para entender as características dos FIIs em cada grupo.\n",
    "\n",
    "### Resultado dos Clusters:\n",
    "- **Cluster 0**: FIIs com valores médios de ativos e menor volatilidade.\n",
    "- **Cluster 1**: FIIs com valores mais elevados, alta liquidez e maior volatilidade.\n",
    "- **Cluster 2**: FIIs de valor intermediário, mas com grande retorno esperado.\n",
    "\n",
    "## 5. Avaliação da Qualidade do Cluster (Silhouette Score)\n",
    "Avaliamos a qualidade da clusterização usando o **Silhouette Score**, que mede a separação dos clusters:\n",
    "- **Silhouette Score médio**: Obtivemos um valor de aproximadamente 0.65, indicando uma boa separação entre os clusters formados.\n",
    "\n",
    "## 6. Predição de Retornos Futuros Baseados em Dividendos (????)\n",
    "Implementamos um modelo de **Regressão Linear** para prever os retornos futuros dos FIIs baseados em seus dividendos.\n",
    "- Utilizamos a variável `vl_dividendo` como alvo (label) para modelar o retorno esperado.\n",
    "- Treinamos o modelo e fizemos as predições de dividendos futuros.\n",
    "\n",
    "## 7. Seleção dos Melhores FIIs\n",
    "Com base nas predições do modelo:\n",
    "- Organizamos os FIIs dentro de cada cluster, ordenando-os pelo retorno de dividendos predito.\n",
    "- Para cada cluster (perfil de risco), identificamos os FIIs com maior retorno potencial nos próximos 10 meses.\n"
   ]
  },
  {
   "cell_type": "markdown",
   "id": "69bec48c-9efb-4b4c-80f2-cc6c4ea12b69",
   "metadata": {
    "jp-MarkdownHeadingCollapsed": true
   },
   "source": [
    "### Análise exploratória"
   ]
  },
  {
   "cell_type": "code",
   "execution_count": 105,
   "id": "cd873928-e0f0-4cc1-b88b-c039f42e3003",
   "metadata": {},
   "outputs": [],
   "source": [
    "gora_numeric = gora.drop(['nm_titulo','nm_setor','dt_inclusao'], axis = 1)"
   ]
  },
  {
   "cell_type": "code",
   "execution_count": 106,
   "id": "b13adf0a-4d9f-49fe-b695-2db162321e67",
   "metadata": {},
   "outputs": [
    {
     "data": {
      "application/vnd.plotly.v1+json": {
       "config": {
        "plotlyServerURL": "https://plot.ly"
       },
       "data": [
        {
         "coloraxis": "coloraxis",
         "hovertemplate": "x: %{x}<br>y: %{y}<br>color: %{z}<extra></extra>",
         "name": "0",
         "texttemplate": "%{z}",
         "type": "heatmap",
         "x": [
          "vl_media_taxa_homicidios",
          "vl_avaliacao_media_ativos_fundo",
          "vl_quantidade_imoveis",
          "vl_valor",
          "vl_liquidez_media_diaria",
          "vl_pvp",
          "vl_dividendo",
          "vl_patrimonio",
          "vl_vpa",
          "vl_volatility",
          "vl_numero_cotista"
         ],
         "xaxis": "x",
         "y": [
          "vl_media_taxa_homicidios",
          "vl_avaliacao_media_ativos_fundo",
          "vl_quantidade_imoveis",
          "vl_valor",
          "vl_liquidez_media_diaria",
          "vl_pvp",
          "vl_dividendo",
          "vl_patrimonio",
          "vl_vpa",
          "vl_volatility",
          "vl_numero_cotista"
         ],
         "yaxis": "y",
         "z": [
          [
           1,
           0.6839909887846584,
           -0.01784985223354555,
           -0.046673692881400476,
           -0.08938674509221195,
           -0.17633859999338744,
           -0.05143023563857002,
           -0.020445623375654344,
           -0.04314699003342969,
           0.03358155069883106,
           -0.04954051086514664
          ],
          [
           0.6839909887846584,
           1,
           0.03601229109591113,
           -0.029162038710106267,
           -0.03578422645602372,
           -0.03616538259844769,
           -0.06680414937854731,
           0.011016433404301192,
           0.022513078091605142,
           0.038471489850882126,
           0.02076132302488521
          ],
          [
           -0.01784985223354555,
           0.03601229109591113,
           1,
           -0.04923408878913479,
           0.2712749159748206,
           0.15056678813853216,
           -0.04487156875543885,
           0.11952962257875789,
           0.22636434994999172,
           -0.187640198269308,
           0.44912451913936496
          ],
          [
           -0.046673692881400476,
           -0.029162038710106267,
           -0.04923408878913479,
           1,
           -0.026751241028632442,
           0.34098226752072985,
           0.6015904004640351,
           -0.007589470825804202,
           -0.025105738399610077,
           0.1625706134844097,
           -0.05137730752701404
          ],
          [
           -0.08938674509221195,
           -0.03578422645602372,
           0.2712749159748206,
           -0.026751241028632442,
           1,
           0.28427238615583034,
           -0.028350954550261417,
           0.1517623859797289,
           0.8018825437190619,
           -0.17150652165049968,
           0.48049060431892887
          ],
          [
           -0.17633859999338744,
           -0.03616538259844769,
           0.15056678813853216,
           0.34098226752072985,
           0.28427238615583034,
           1,
           0.23729891951882431,
           0.05986030052121095,
           0.1827512552964394,
           -0.010206190361823016,
           0.12157830075201384
          ],
          [
           -0.05143023563857002,
           -0.06680414937854731,
           -0.04487156875543885,
           0.6015904004640351,
           -0.028350954550261417,
           0.23729891951882431,
           1,
           -0.0346186249838274,
           -0.024317205715693797,
           0.029062951753054386,
           -0.06657967164992583
          ],
          [
           -0.020445623375654344,
           0.011016433404301192,
           0.11952962257875789,
           -0.007589470825804202,
           0.1517623859797289,
           0.05986030052121095,
           -0.0346186249838274,
           1,
           -0.010320229093591586,
           -0.2107331513180315,
           0.9015690325846292
          ],
          [
           -0.04314699003342969,
           0.022513078091605142,
           0.22636434994999172,
           -0.025105738399610077,
           0.8018825437190619,
           0.1827512552964394,
           -0.024317205715693797,
           -0.010320229093591586,
           1,
           0.2347717773381118,
           -0.06657191429887423
          ],
          [
           0.03358155069883106,
           0.038471489850882126,
           -0.187640198269308,
           0.1625706134844097,
           -0.17150652165049968,
           -0.010206190361823016,
           0.029062951753054386,
           -0.2107331513180315,
           0.2347717773381118,
           1,
           -0.19219260495467627
          ],
          [
           -0.04954051086514664,
           0.02076132302488521,
           0.44912451913936496,
           -0.05137730752701404,
           0.48049060431892887,
           0.12157830075201384,
           -0.06657967164992583,
           0.9015690325846292,
           -0.06657191429887423,
           -0.19219260495467627,
           1
          ]
         ]
        }
       ],
       "layout": {
        "autosize": true,
        "coloraxis": {
         "cmax": 1,
         "cmin": -1,
         "colorscale": [
          [
           0,
           "rgb(103,0,31)"
          ],
          [
           0.1,
           "rgb(178,24,43)"
          ],
          [
           0.2,
           "rgb(214,96,77)"
          ],
          [
           0.3,
           "rgb(244,165,130)"
          ],
          [
           0.4,
           "rgb(253,219,199)"
          ],
          [
           0.5,
           "rgb(247,247,247)"
          ],
          [
           0.6,
           "rgb(209,229,240)"
          ],
          [
           0.7,
           "rgb(146,197,222)"
          ],
          [
           0.8,
           "rgb(67,147,195)"
          ],
          [
           0.9,
           "rgb(33,102,172)"
          ],
          [
           1,
           "rgb(5,48,97)"
          ]
         ]
        },
        "margin": {
         "t": 60
        },
        "template": {
         "data": {
          "bar": [
           {
            "error_x": {
             "color": "#2a3f5f"
            },
            "error_y": {
             "color": "#2a3f5f"
            },
            "marker": {
             "line": {
              "color": "#E5ECF6",
              "width": 0.5
             },
             "pattern": {
              "fillmode": "overlay",
              "size": 10,
              "solidity": 0.2
             }
            },
            "type": "bar"
           }
          ],
          "barpolar": [
           {
            "marker": {
             "line": {
              "color": "#E5ECF6",
              "width": 0.5
             },
             "pattern": {
              "fillmode": "overlay",
              "size": 10,
              "solidity": 0.2
             }
            },
            "type": "barpolar"
           }
          ],
          "carpet": [
           {
            "aaxis": {
             "endlinecolor": "#2a3f5f",
             "gridcolor": "white",
             "linecolor": "white",
             "minorgridcolor": "white",
             "startlinecolor": "#2a3f5f"
            },
            "baxis": {
             "endlinecolor": "#2a3f5f",
             "gridcolor": "white",
             "linecolor": "white",
             "minorgridcolor": "white",
             "startlinecolor": "#2a3f5f"
            },
            "type": "carpet"
           }
          ],
          "choropleth": [
           {
            "colorbar": {
             "outlinewidth": 0,
             "ticks": ""
            },
            "type": "choropleth"
           }
          ],
          "contour": [
           {
            "colorbar": {
             "outlinewidth": 0,
             "ticks": ""
            },
            "colorscale": [
             [
              0,
              "#0d0887"
             ],
             [
              0.1111111111111111,
              "#46039f"
             ],
             [
              0.2222222222222222,
              "#7201a8"
             ],
             [
              0.3333333333333333,
              "#9c179e"
             ],
             [
              0.4444444444444444,
              "#bd3786"
             ],
             [
              0.5555555555555556,
              "#d8576b"
             ],
             [
              0.6666666666666666,
              "#ed7953"
             ],
             [
              0.7777777777777778,
              "#fb9f3a"
             ],
             [
              0.8888888888888888,
              "#fdca26"
             ],
             [
              1,
              "#f0f921"
             ]
            ],
            "type": "contour"
           }
          ],
          "contourcarpet": [
           {
            "colorbar": {
             "outlinewidth": 0,
             "ticks": ""
            },
            "type": "contourcarpet"
           }
          ],
          "heatmap": [
           {
            "colorbar": {
             "outlinewidth": 0,
             "ticks": ""
            },
            "colorscale": [
             [
              0,
              "#0d0887"
             ],
             [
              0.1111111111111111,
              "#46039f"
             ],
             [
              0.2222222222222222,
              "#7201a8"
             ],
             [
              0.3333333333333333,
              "#9c179e"
             ],
             [
              0.4444444444444444,
              "#bd3786"
             ],
             [
              0.5555555555555556,
              "#d8576b"
             ],
             [
              0.6666666666666666,
              "#ed7953"
             ],
             [
              0.7777777777777778,
              "#fb9f3a"
             ],
             [
              0.8888888888888888,
              "#fdca26"
             ],
             [
              1,
              "#f0f921"
             ]
            ],
            "type": "heatmap"
           }
          ],
          "heatmapgl": [
           {
            "colorbar": {
             "outlinewidth": 0,
             "ticks": ""
            },
            "colorscale": [
             [
              0,
              "#0d0887"
             ],
             [
              0.1111111111111111,
              "#46039f"
             ],
             [
              0.2222222222222222,
              "#7201a8"
             ],
             [
              0.3333333333333333,
              "#9c179e"
             ],
             [
              0.4444444444444444,
              "#bd3786"
             ],
             [
              0.5555555555555556,
              "#d8576b"
             ],
             [
              0.6666666666666666,
              "#ed7953"
             ],
             [
              0.7777777777777778,
              "#fb9f3a"
             ],
             [
              0.8888888888888888,
              "#fdca26"
             ],
             [
              1,
              "#f0f921"
             ]
            ],
            "type": "heatmapgl"
           }
          ],
          "histogram": [
           {
            "marker": {
             "pattern": {
              "fillmode": "overlay",
              "size": 10,
              "solidity": 0.2
             }
            },
            "type": "histogram"
           }
          ],
          "histogram2d": [
           {
            "colorbar": {
             "outlinewidth": 0,
             "ticks": ""
            },
            "colorscale": [
             [
              0,
              "#0d0887"
             ],
             [
              0.1111111111111111,
              "#46039f"
             ],
             [
              0.2222222222222222,
              "#7201a8"
             ],
             [
              0.3333333333333333,
              "#9c179e"
             ],
             [
              0.4444444444444444,
              "#bd3786"
             ],
             [
              0.5555555555555556,
              "#d8576b"
             ],
             [
              0.6666666666666666,
              "#ed7953"
             ],
             [
              0.7777777777777778,
              "#fb9f3a"
             ],
             [
              0.8888888888888888,
              "#fdca26"
             ],
             [
              1,
              "#f0f921"
             ]
            ],
            "type": "histogram2d"
           }
          ],
          "histogram2dcontour": [
           {
            "colorbar": {
             "outlinewidth": 0,
             "ticks": ""
            },
            "colorscale": [
             [
              0,
              "#0d0887"
             ],
             [
              0.1111111111111111,
              "#46039f"
             ],
             [
              0.2222222222222222,
              "#7201a8"
             ],
             [
              0.3333333333333333,
              "#9c179e"
             ],
             [
              0.4444444444444444,
              "#bd3786"
             ],
             [
              0.5555555555555556,
              "#d8576b"
             ],
             [
              0.6666666666666666,
              "#ed7953"
             ],
             [
              0.7777777777777778,
              "#fb9f3a"
             ],
             [
              0.8888888888888888,
              "#fdca26"
             ],
             [
              1,
              "#f0f921"
             ]
            ],
            "type": "histogram2dcontour"
           }
          ],
          "mesh3d": [
           {
            "colorbar": {
             "outlinewidth": 0,
             "ticks": ""
            },
            "type": "mesh3d"
           }
          ],
          "parcoords": [
           {
            "line": {
             "colorbar": {
              "outlinewidth": 0,
              "ticks": ""
             }
            },
            "type": "parcoords"
           }
          ],
          "pie": [
           {
            "automargin": true,
            "type": "pie"
           }
          ],
          "scatter": [
           {
            "fillpattern": {
             "fillmode": "overlay",
             "size": 10,
             "solidity": 0.2
            },
            "type": "scatter"
           }
          ],
          "scatter3d": [
           {
            "line": {
             "colorbar": {
              "outlinewidth": 0,
              "ticks": ""
             }
            },
            "marker": {
             "colorbar": {
              "outlinewidth": 0,
              "ticks": ""
             }
            },
            "type": "scatter3d"
           }
          ],
          "scattercarpet": [
           {
            "marker": {
             "colorbar": {
              "outlinewidth": 0,
              "ticks": ""
             }
            },
            "type": "scattercarpet"
           }
          ],
          "scattergeo": [
           {
            "marker": {
             "colorbar": {
              "outlinewidth": 0,
              "ticks": ""
             }
            },
            "type": "scattergeo"
           }
          ],
          "scattergl": [
           {
            "marker": {
             "colorbar": {
              "outlinewidth": 0,
              "ticks": ""
             }
            },
            "type": "scattergl"
           }
          ],
          "scattermapbox": [
           {
            "marker": {
             "colorbar": {
              "outlinewidth": 0,
              "ticks": ""
             }
            },
            "type": "scattermapbox"
           }
          ],
          "scatterpolar": [
           {
            "marker": {
             "colorbar": {
              "outlinewidth": 0,
              "ticks": ""
             }
            },
            "type": "scatterpolar"
           }
          ],
          "scatterpolargl": [
           {
            "marker": {
             "colorbar": {
              "outlinewidth": 0,
              "ticks": ""
             }
            },
            "type": "scatterpolargl"
           }
          ],
          "scatterternary": [
           {
            "marker": {
             "colorbar": {
              "outlinewidth": 0,
              "ticks": ""
             }
            },
            "type": "scatterternary"
           }
          ],
          "surface": [
           {
            "colorbar": {
             "outlinewidth": 0,
             "ticks": ""
            },
            "colorscale": [
             [
              0,
              "#0d0887"
             ],
             [
              0.1111111111111111,
              "#46039f"
             ],
             [
              0.2222222222222222,
              "#7201a8"
             ],
             [
              0.3333333333333333,
              "#9c179e"
             ],
             [
              0.4444444444444444,
              "#bd3786"
             ],
             [
              0.5555555555555556,
              "#d8576b"
             ],
             [
              0.6666666666666666,
              "#ed7953"
             ],
             [
              0.7777777777777778,
              "#fb9f3a"
             ],
             [
              0.8888888888888888,
              "#fdca26"
             ],
             [
              1,
              "#f0f921"
             ]
            ],
            "type": "surface"
           }
          ],
          "table": [
           {
            "cells": {
             "fill": {
              "color": "#EBF0F8"
             },
             "line": {
              "color": "white"
             }
            },
            "header": {
             "fill": {
              "color": "#C8D4E3"
             },
             "line": {
              "color": "white"
             }
            },
            "type": "table"
           }
          ]
         },
         "layout": {
          "annotationdefaults": {
           "arrowcolor": "#2a3f5f",
           "arrowhead": 0,
           "arrowwidth": 1
          },
          "autotypenumbers": "strict",
          "coloraxis": {
           "colorbar": {
            "outlinewidth": 0,
            "ticks": ""
           }
          },
          "colorscale": {
           "diverging": [
            [
             0,
             "#8e0152"
            ],
            [
             0.1,
             "#c51b7d"
            ],
            [
             0.2,
             "#de77ae"
            ],
            [
             0.3,
             "#f1b6da"
            ],
            [
             0.4,
             "#fde0ef"
            ],
            [
             0.5,
             "#f7f7f7"
            ],
            [
             0.6,
             "#e6f5d0"
            ],
            [
             0.7,
             "#b8e186"
            ],
            [
             0.8,
             "#7fbc41"
            ],
            [
             0.9,
             "#4d9221"
            ],
            [
             1,
             "#276419"
            ]
           ],
           "sequential": [
            [
             0,
             "#0d0887"
            ],
            [
             0.1111111111111111,
             "#46039f"
            ],
            [
             0.2222222222222222,
             "#7201a8"
            ],
            [
             0.3333333333333333,
             "#9c179e"
            ],
            [
             0.4444444444444444,
             "#bd3786"
            ],
            [
             0.5555555555555556,
             "#d8576b"
            ],
            [
             0.6666666666666666,
             "#ed7953"
            ],
            [
             0.7777777777777778,
             "#fb9f3a"
            ],
            [
             0.8888888888888888,
             "#fdca26"
            ],
            [
             1,
             "#f0f921"
            ]
           ],
           "sequentialminus": [
            [
             0,
             "#0d0887"
            ],
            [
             0.1111111111111111,
             "#46039f"
            ],
            [
             0.2222222222222222,
             "#7201a8"
            ],
            [
             0.3333333333333333,
             "#9c179e"
            ],
            [
             0.4444444444444444,
             "#bd3786"
            ],
            [
             0.5555555555555556,
             "#d8576b"
            ],
            [
             0.6666666666666666,
             "#ed7953"
            ],
            [
             0.7777777777777778,
             "#fb9f3a"
            ],
            [
             0.8888888888888888,
             "#fdca26"
            ],
            [
             1,
             "#f0f921"
            ]
           ]
          },
          "colorway": [
           "#636efa",
           "#EF553B",
           "#00cc96",
           "#ab63fa",
           "#FFA15A",
           "#19d3f3",
           "#FF6692",
           "#B6E880",
           "#FF97FF",
           "#FECB52"
          ],
          "font": {
           "color": "#2a3f5f"
          },
          "geo": {
           "bgcolor": "white",
           "lakecolor": "white",
           "landcolor": "#E5ECF6",
           "showlakes": true,
           "showland": true,
           "subunitcolor": "white"
          },
          "hoverlabel": {
           "align": "left"
          },
          "hovermode": "closest",
          "mapbox": {
           "style": "light"
          },
          "paper_bgcolor": "white",
          "plot_bgcolor": "#E5ECF6",
          "polar": {
           "angularaxis": {
            "gridcolor": "white",
            "linecolor": "white",
            "ticks": ""
           },
           "bgcolor": "#E5ECF6",
           "radialaxis": {
            "gridcolor": "white",
            "linecolor": "white",
            "ticks": ""
           }
          },
          "scene": {
           "xaxis": {
            "backgroundcolor": "#E5ECF6",
            "gridcolor": "white",
            "gridwidth": 2,
            "linecolor": "white",
            "showbackground": true,
            "ticks": "",
            "zerolinecolor": "white"
           },
           "yaxis": {
            "backgroundcolor": "#E5ECF6",
            "gridcolor": "white",
            "gridwidth": 2,
            "linecolor": "white",
            "showbackground": true,
            "ticks": "",
            "zerolinecolor": "white"
           },
           "zaxis": {
            "backgroundcolor": "#E5ECF6",
            "gridcolor": "white",
            "gridwidth": 2,
            "linecolor": "white",
            "showbackground": true,
            "ticks": "",
            "zerolinecolor": "white"
           }
          },
          "shapedefaults": {
           "line": {
            "color": "#2a3f5f"
           }
          },
          "ternary": {
           "aaxis": {
            "gridcolor": "white",
            "linecolor": "white",
            "ticks": ""
           },
           "baxis": {
            "gridcolor": "white",
            "linecolor": "white",
            "ticks": ""
           },
           "bgcolor": "#E5ECF6",
           "caxis": {
            "gridcolor": "white",
            "linecolor": "white",
            "ticks": ""
           }
          },
          "title": {
           "x": 0.05
          },
          "xaxis": {
           "automargin": true,
           "gridcolor": "white",
           "linecolor": "white",
           "ticks": "",
           "title": {
            "standoff": 15
           },
           "zerolinecolor": "white",
           "zerolinewidth": 2
          },
          "yaxis": {
           "automargin": true,
           "gridcolor": "white",
           "linecolor": "white",
           "ticks": "",
           "title": {
            "standoff": 15
           },
           "zerolinecolor": "white",
           "zerolinewidth": 2
          }
         }
        },
        "xaxis": {
         "anchor": "y",
         "autorange": true,
         "constrain": "domain",
         "domain": [
          0.4345692475463468,
          0.5654307524536533
         ],
         "range": [
          -0.5,
          10.5
         ],
         "scaleanchor": "y",
         "type": "category"
        },
        "yaxis": {
         "anchor": "x",
         "autorange": true,
         "constrain": "domain",
         "domain": [
          0,
          1
         ],
         "range": [
          10.5,
          -0.5
         ],
         "type": "category"
        }
       }
      },
      "image/png": "[encoded data removed]",
      "text/html": [
       "<div>                            <div id=\"76d60a4d-4a07-46fb-bc5a-736ca881c2c6\" class=\"plotly-graph-div\" style=\"height:525px; width:100%;\"></div>            <script type=\"text/javascript\">                require([\"plotly\"], function(Plotly) {                    window.PLOTLYENV=window.PLOTLYENV || {};                                    if (document.getElementById(\"76d60a4d-4a07-46fb-bc5a-736ca881c2c6\")) {                    Plotly.newPlot(                        \"76d60a4d-4a07-46fb-bc5a-736ca881c2c6\",                        [{\"coloraxis\":\"coloraxis\",\"name\":\"0\",\"texttemplate\":\"%{z}\",\"x\":[\"vl_media_taxa_homicidios\",\"vl_avaliacao_media_ativos_fundo\",\"vl_quantidade_imoveis\",\"vl_valor\",\"vl_liquidez_media_diaria\",\"vl_pvp\",\"vl_dividendo\",\"vl_patrimonio\",\"vl_vpa\",\"vl_volatility\",\"vl_numero_cotista\"],\"y\":[\"vl_media_taxa_homicidios\",\"vl_avaliacao_media_ativos_fundo\",\"vl_quantidade_imoveis\",\"vl_valor\",\"vl_liquidez_media_diaria\",\"vl_pvp\",\"vl_dividendo\",\"vl_patrimonio\",\"vl_vpa\",\"vl_volatility\",\"vl_numero_cotista\"],\"z\":[[1.0,0.6839909887846584,-0.01784985223354555,-0.046673692881400476,-0.08938674509221195,-0.17633859999338744,-0.05143023563857002,-0.020445623375654344,-0.04314699003342969,0.03358155069883106,-0.04954051086514664],[0.6839909887846584,1.0,0.03601229109591113,-0.029162038710106267,-0.03578422645602372,-0.03616538259844769,-0.06680414937854731,0.011016433404301192,0.022513078091605142,0.038471489850882126,0.02076132302488521],[-0.01784985223354555,0.03601229109591113,1.0,-0.04923408878913479,0.2712749159748206,0.15056678813853216,-0.04487156875543885,0.11952962257875789,0.22636434994999172,-0.187640198269308,0.44912451913936496],[-0.046673692881400476,-0.029162038710106267,-0.04923408878913479,1.0,-0.026751241028632442,0.34098226752072985,0.6015904004640351,-0.007589470825804202,-0.025105738399610077,0.1625706134844097,-0.05137730752701404],[-0.08938674509221195,-0.03578422645602372,0.2712749159748206,-0.026751241028632442,1.0,0.28427238615583034,-0.028350954550261417,0.1517623859797289,0.8018825437190619,-0.17150652165049968,0.48049060431892887],[-0.17633859999338744,-0.03616538259844769,0.15056678813853216,0.34098226752072985,0.28427238615583034,1.0,0.23729891951882431,0.05986030052121095,0.1827512552964394,-0.010206190361823016,0.12157830075201384],[-0.05143023563857002,-0.06680414937854731,-0.04487156875543885,0.6015904004640351,-0.028350954550261417,0.23729891951882431,1.0,-0.0346186249838274,-0.024317205715693797,0.029062951753054386,-0.06657967164992583],[-0.020445623375654344,0.011016433404301192,0.11952962257875789,-0.007589470825804202,0.1517623859797289,0.05986030052121095,-0.0346186249838274,1.0,-0.010320229093591586,-0.2107331513180315,0.9015690325846292],[-0.04314699003342969,0.022513078091605142,0.22636434994999172,-0.025105738399610077,0.8018825437190619,0.1827512552964394,-0.024317205715693797,-0.010320229093591586,1.0,0.2347717773381118,-0.06657191429887423],[0.03358155069883106,0.038471489850882126,-0.187640198269308,0.1625706134844097,-0.17150652165049968,-0.010206190361823016,0.029062951753054386,-0.2107331513180315,0.2347717773381118,1.0,-0.19219260495467627],[-0.04954051086514664,0.02076132302488521,0.44912451913936496,-0.05137730752701404,0.48049060431892887,0.12157830075201384,-0.06657967164992583,0.9015690325846292,-0.06657191429887423,-0.19219260495467627,1.0]],\"type\":\"heatmap\",\"xaxis\":\"x\",\"yaxis\":\"y\",\"hovertemplate\":\"x: %{x}\\u003cbr\\u003ey: %{y}\\u003cbr\\u003ecolor: %{z}\\u003cextra\\u003e\\u003c\\u002fextra\\u003e\"}],                        {\"template\":{\"data\":{\"histogram2dcontour\":[{\"type\":\"histogram2dcontour\",\"colorbar\":{\"outlinewidth\":0,\"ticks\":\"\"},\"colorscale\":[[0.0,\"#0d0887\"],[0.1111111111111111,\"#46039f\"],[0.2222222222222222,\"#7201a8\"],[0.3333333333333333,\"#9c179e\"],[0.4444444444444444,\"#bd3786\"],[0.5555555555555556,\"#d8576b\"],[0.6666666666666666,\"#ed7953\"],[0.7777777777777778,\"#fb9f3a\"],[0.8888888888888888,\"#fdca26\"],[1.0,\"#f0f921\"]]}],\"choropleth\":[{\"type\":\"choropleth\",\"colorbar\":{\"outlinewidth\":0,\"ticks\":\"\"}}],\"histogram2d\":[{\"type\":\"histogram2d\",\"colorbar\":{\"outlinewidth\":0,\"ticks\":\"\"},\"colorscale\":[[0.0,\"#0d0887\"],[0.1111111111111111,\"#46039f\"],[0.2222222222222222,\"#7201a8\"],[0.3333333333333333,\"#9c179e\"],[0.4444444444444444,\"#bd3786\"],[0.5555555555555556,\"#d8576b\"],[0.6666666666666666,\"#ed7953\"],[0.7777777777777778,\"#fb9f3a\"],[0.8888888888888888,\"#fdca26\"],[1.0,\"#f0f921\"]]}],\"heatmap\":[{\"type\":\"heatmap\",\"colorbar\":{\"outlinewidth\":0,\"ticks\":\"\"},\"colorscale\":[[0.0,\"#0d0887\"],[0.1111111111111111,\"#46039f\"],[0.2222222222222222,\"#7201a8\"],[0.3333333333333333,\"#9c179e\"],[0.4444444444444444,\"#bd3786\"],[0.5555555555555556,\"#d8576b\"],[0.6666666666666666,\"#ed7953\"],[0.7777777777777778,\"#fb9f3a\"],[0.8888888888888888,\"#fdca26\"],[1.0,\"#f0f921\"]]}],\"heatmapgl\":[{\"type\":\"heatmapgl\",\"colorbar\":{\"outlinewidth\":0,\"ticks\":\"\"},\"colorscale\":[[0.0,\"#0d0887\"],[0.1111111111111111,\"#46039f\"],[0.2222222222222222,\"#7201a8\"],[0.3333333333333333,\"#9c179e\"],[0.4444444444444444,\"#bd3786\"],[0.5555555555555556,\"#d8576b\"],[0.6666666666666666,\"#ed7953\"],[0.7777777777777778,\"#fb9f3a\"],[0.8888888888888888,\"#fdca26\"],[1.0,\"#f0f921\"]]}],\"contourcarpet\":[{\"type\":\"contourcarpet\",\"colorbar\":{\"outlinewidth\":0,\"ticks\":\"\"}}],\"contour\":[{\"type\":\"contour\",\"colorbar\":{\"outlinewidth\":0,\"ticks\":\"\"},\"colorscale\":[[0.0,\"#0d0887\"],[0.1111111111111111,\"#46039f\"],[0.2222222222222222,\"#7201a8\"],[0.3333333333333333,\"#9c179e\"],[0.4444444444444444,\"#bd3786\"],[0.5555555555555556,\"#d8576b\"],[0.6666666666666666,\"#ed7953\"],[0.7777777777777778,\"#fb9f3a\"],[0.8888888888888888,\"#fdca26\"],[1.0,\"#f0f921\"]]}],\"surface\":[{\"type\":\"surface\",\"colorbar\":{\"outlinewidth\":0,\"ticks\":\"\"},\"colorscale\":[[0.0,\"#0d0887\"],[0.1111111111111111,\"#46039f\"],[0.2222222222222222,\"#7201a8\"],[0.3333333333333333,\"#9c179e\"],[0.4444444444444444,\"#bd3786\"],[0.5555555555555556,\"#d8576b\"],[0.6666666666666666,\"#ed7953\"],[0.7777777777777778,\"#fb9f3a\"],[0.8888888888888888,\"#fdca26\"],[1.0,\"#f0f921\"]]}],\"mesh3d\":[{\"type\":\"mesh3d\",\"colorbar\":{\"outlinewidth\":0,\"ticks\":\"\"}}],\"scatter\":[{\"fillpattern\":{\"fillmode\":\"overlay\",\"size\":10,\"solidity\":0.2},\"type\":\"scatter\"}],\"parcoords\":[{\"type\":\"parcoords\",\"line\":{\"colorbar\":{\"outlinewidth\":0,\"ticks\":\"\"}}}],\"scatterpolargl\":[{\"type\":\"scatterpolargl\",\"marker\":{\"colorbar\":{\"outlinewidth\":0,\"ticks\":\"\"}}}],\"bar\":[{\"error_x\":{\"color\":\"#2a3f5f\"},\"error_y\":{\"color\":\"#2a3f5f\"},\"marker\":{\"line\":{\"color\":\"#E5ECF6\",\"width\":0.5},\"pattern\":{\"fillmode\":\"overlay\",\"size\":10,\"solidity\":0.2}},\"type\":\"bar\"}],\"scattergeo\":[{\"type\":\"scattergeo\",\"marker\":{\"colorbar\":{\"outlinewidth\":0,\"ticks\":\"\"}}}],\"scatterpolar\":[{\"type\":\"scatterpolar\",\"marker\":{\"colorbar\":{\"outlinewidth\":0,\"ticks\":\"\"}}}],\"histogram\":[{\"marker\":{\"pattern\":{\"fillmode\":\"overlay\",\"size\":10,\"solidity\":0.2}},\"type\":\"histogram\"}],\"scattergl\":[{\"type\":\"scattergl\",\"marker\":{\"colorbar\":{\"outlinewidth\":0,\"ticks\":\"\"}}}],\"scatter3d\":[{\"type\":\"scatter3d\",\"line\":{\"colorbar\":{\"outlinewidth\":0,\"ticks\":\"\"}},\"marker\":{\"colorbar\":{\"outlinewidth\":0,\"ticks\":\"\"}}}],\"scattermapbox\":[{\"type\":\"scattermapbox\",\"marker\":{\"colorbar\":{\"outlinewidth\":0,\"ticks\":\"\"}}}],\"scatterternary\":[{\"type\":\"scatterternary\",\"marker\":{\"colorbar\":{\"outlinewidth\":0,\"ticks\":\"\"}}}],\"scattercarpet\":[{\"type\":\"scattercarpet\",\"marker\":{\"colorbar\":{\"outlinewidth\":0,\"ticks\":\"\"}}}],\"carpet\":[{\"aaxis\":{\"endlinecolor\":\"#2a3f5f\",\"gridcolor\":\"white\",\"linecolor\":\"white\",\"minorgridcolor\":\"white\",\"startlinecolor\":\"#2a3f5f\"},\"baxis\":{\"endlinecolor\":\"#2a3f5f\",\"gridcolor\":\"white\",\"linecolor\":\"white\",\"minorgridcolor\":\"white\",\"startlinecolor\":\"#2a3f5f\"},\"type\":\"carpet\"}],\"table\":[{\"cells\":{\"fill\":{\"color\":\"#EBF0F8\"},\"line\":{\"color\":\"white\"}},\"header\":{\"fill\":{\"color\":\"#C8D4E3\"},\"line\":{\"color\":\"white\"}},\"type\":\"table\"}],\"barpolar\":[{\"marker\":{\"line\":{\"color\":\"#E5ECF6\",\"width\":0.5},\"pattern\":{\"fillmode\":\"overlay\",\"size\":10,\"solidity\":0.2}},\"type\":\"barpolar\"}],\"pie\":[{\"automargin\":true,\"type\":\"pie\"}]},\"layout\":{\"autotypenumbers\":\"strict\",\"colorway\":[\"#636efa\",\"#EF553B\",\"#00cc96\",\"#ab63fa\",\"#FFA15A\",\"#19d3f3\",\"#FF6692\",\"#B6E880\",\"#FF97FF\",\"#FECB52\"],\"font\":{\"color\":\"#2a3f5f\"},\"hovermode\":\"closest\",\"hoverlabel\":{\"align\":\"left\"},\"paper_bgcolor\":\"white\",\"plot_bgcolor\":\"#E5ECF6\",\"polar\":{\"bgcolor\":\"#E5ECF6\",\"angularaxis\":{\"gridcolor\":\"white\",\"linecolor\":\"white\",\"ticks\":\"\"},\"radialaxis\":{\"gridcolor\":\"white\",\"linecolor\":\"white\",\"ticks\":\"\"}},\"ternary\":{\"bgcolor\":\"#E5ECF6\",\"aaxis\":{\"gridcolor\":\"white\",\"linecolor\":\"white\",\"ticks\":\"\"},\"baxis\":{\"gridcolor\":\"white\",\"linecolor\":\"white\",\"ticks\":\"\"},\"caxis\":{\"gridcolor\":\"white\",\"linecolor\":\"white\",\"ticks\":\"\"}},\"coloraxis\":{\"colorbar\":{\"outlinewidth\":0,\"ticks\":\"\"}},\"colorscale\":{\"sequential\":[[0.0,\"#0d0887\"],[0.1111111111111111,\"#46039f\"],[0.2222222222222222,\"#7201a8\"],[0.3333333333333333,\"#9c179e\"],[0.4444444444444444,\"#bd3786\"],[0.5555555555555556,\"#d8576b\"],[0.6666666666666666,\"#ed7953\"],[0.7777777777777778,\"#fb9f3a\"],[0.8888888888888888,\"#fdca26\"],[1.0,\"#f0f921\"]],\"sequentialminus\":[[0.0,\"#0d0887\"],[0.1111111111111111,\"#46039f\"],[0.2222222222222222,\"#7201a8\"],[0.3333333333333333,\"#9c179e\"],[0.4444444444444444,\"#bd3786\"],[0.5555555555555556,\"#d8576b\"],[0.6666666666666666,\"#ed7953\"],[0.7777777777777778,\"#fb9f3a\"],[0.8888888888888888,\"#fdca26\"],[1.0,\"#f0f921\"]],\"diverging\":[[0,\"#8e0152\"],[0.1,\"#c51b7d\"],[0.2,\"#de77ae\"],[0.3,\"#f1b6da\"],[0.4,\"#fde0ef\"],[0.5,\"#f7f7f7\"],[0.6,\"#e6f5d0\"],[0.7,\"#b8e186\"],[0.8,\"#7fbc41\"],[0.9,\"#4d9221\"],[1,\"#276419\"]]},\"xaxis\":{\"gridcolor\":\"white\",\"linecolor\":\"white\",\"ticks\":\"\",\"title\":{\"standoff\":15},\"zerolinecolor\":\"white\",\"automargin\":true,\"zerolinewidth\":2},\"yaxis\":{\"gridcolor\":\"white\",\"linecolor\":\"white\",\"ticks\":\"\",\"title\":{\"standoff\":15},\"zerolinecolor\":\"white\",\"automargin\":true,\"zerolinewidth\":2},\"scene\":{\"xaxis\":{\"backgroundcolor\":\"#E5ECF6\",\"gridcolor\":\"white\",\"linecolor\":\"white\",\"showbackground\":true,\"ticks\":\"\",\"zerolinecolor\":\"white\",\"gridwidth\":2},\"yaxis\":{\"backgroundcolor\":\"#E5ECF6\",\"gridcolor\":\"white\",\"linecolor\":\"white\",\"showbackground\":true,\"ticks\":\"\",\"zerolinecolor\":\"white\",\"gridwidth\":2},\"zaxis\":{\"backgroundcolor\":\"#E5ECF6\",\"gridcolor\":\"white\",\"linecolor\":\"white\",\"showbackground\":true,\"ticks\":\"\",\"zerolinecolor\":\"white\",\"gridwidth\":2}},\"shapedefaults\":{\"line\":{\"color\":\"#2a3f5f\"}},\"annotationdefaults\":{\"arrowcolor\":\"#2a3f5f\",\"arrowhead\":0,\"arrowwidth\":1},\"geo\":{\"bgcolor\":\"white\",\"landcolor\":\"#E5ECF6\",\"subunitcolor\":\"white\",\"showland\":true,\"showlakes\":true,\"lakecolor\":\"white\"},\"title\":{\"x\":0.05},\"mapbox\":{\"style\":\"light\"}}},\"xaxis\":{\"anchor\":\"y\",\"domain\":[0.0,1.0],\"scaleanchor\":\"y\",\"constrain\":\"domain\"},\"yaxis\":{\"anchor\":\"x\",\"domain\":[0.0,1.0],\"autorange\":\"reversed\",\"constrain\":\"domain\"},\"coloraxis\":{\"colorscale\":[[0.0,\"rgb(103,0,31)\"],[0.1,\"rgb(178,24,43)\"],[0.2,\"rgb(214,96,77)\"],[0.3,\"rgb(244,165,130)\"],[0.4,\"rgb(253,219,199)\"],[0.5,\"rgb(247,247,247)\"],[0.6,\"rgb(209,229,240)\"],[0.7,\"rgb(146,197,222)\"],[0.8,\"rgb(67,147,195)\"],[0.9,\"rgb(33,102,172)\"],[1.0,\"rgb(5,48,97)\"]],\"cmin\":-1,\"cmax\":1},\"margin\":{\"t\":60}},                        {\"responsive\": true}                    ).then(function(){\n",
       "                            \n",
       "var gd = document.getElementById('76d60a4d-4a07-46fb-bc5a-736ca881c2c6');\n",
       "var x = new MutationObserver(function (mutations, observer) {{\n",
       "        var display = window.getComputedStyle(gd).display;\n",
       "        if (!display || display === 'none') {{\n",
       "            console.log([gd, 'removed!']);\n",
       "            Plotly.purge(gd);\n",
       "            observer.disconnect();\n",
       "        }}\n",
       "}});\n",
       "\n",
       "// Listen for the removal of the full notebook cells\n",
       "var notebookContainer = gd.closest('#notebook-container');\n",
       "if (notebookContainer) {{\n",
       "    x.observe(notebookContainer, {childList: true});\n",
       "}}\n",
       "\n",
       "// Listen for the clearing of the current output cell\n",
       "var outputEl = gd.closest('.output');\n",
       "if (outputEl) {{\n",
       "    x.observe(outputEl, {childList: true});\n",
       "}}\n",
       "\n",
       "                        })                };                });            </script>        </div>"
      ]
     },
     "metadata": {},
     "output_type": "display_data"
    }
   ],
   "source": [
    "import plotly.express as px\n",
    "\n",
    "# Gera a matriz de correlação\n",
    "correlation_matrix = gora_numeric.corr()\n",
    "\n",
    "# Criando o gráfico de correlação com limites ajustados de -1 a 1\n",
    "fig = px.imshow(correlation_matrix, \n",
    "                text_auto=True, \n",
    "                zmin=-1, zmax=1,  # Define os limites de -1 a 1\n",
    "                color_continuous_scale='RdBu')  # Usa uma escala de cores adequada\n",
    "\n",
    "fig.show()"
   ]
  },
  {
   "cell_type": "markdown",
   "id": "3c4e9e2f-6d9a-4bca-a4e1-b2e6d549d957",
   "metadata": {
    "jp-MarkdownHeadingCollapsed": true
   },
   "source": [
    "### Modelo de Clusterização - Executar em Ambiente em Nuvem ou em PC Externo"
   ]
  },
  {
   "cell_type": "code",
   "execution_count": 64,
   "id": "1007eaa9-52d6-4d0a-86b3-1370cf825b33",
   "metadata": {},
   "outputs": [],
   "source": [
    "from pyspark.sql import SparkSession\n",
    "\n",
    "# Cria a sessão Spark com configurações ajustadas\n",
    "spark = SparkSession.builder \\\n",
    "    .appName(\"KMeansCluster\") \\\n",
    "    .config(\"spark.python.worker.reuse\", \"true\") \\\n",
    "    .config(\"spark.network.timeout\", \"800s\") \\\n",
    "    .config(\"spark.executor.heartbeatInterval\", \"100s\") \\\n",
    "    .getOrCreate()\n"
   ]
  },
  {
   "cell_type": "code",
   "execution_count": 107,
   "id": "5779597c-44d0-454b-aeb5-c01719d76f48",
   "metadata": {},
   "outputs": [],
   "source": [
    "numeric_columns = [\n",
    "    'vl_media_taxa_homicidios', \n",
    "    'vl_avaliacao_media_ativos_fundo', \n",
    "    'vl_quantidade_imoveis',\n",
    "    'vl_valor', \n",
    "    'vl_liquidez_media_diaria', \n",
    "    'vl_pvp', \n",
    "    'vl_dividendo',\n",
    "    'vl_patrimonio', \n",
    "    'vl_vpa', \n",
    "    'vl_volatility', \n",
    "    'vl_numero_cotista'\n",
    "]\n",
    "\n",
    "# Substituir os NaNs por 0 nas colunas numéricas\n",
    "gora_spark = spark.createDataFrame(gora).na.fill(0, subset=numeric_columns)\n",
    "\n",
    "\n",
    "aggregated_data = gora_spark.groupBy('nm_titulo').agg(\n",
    "    F.mean('vl_media_taxa_homicidios').alias('mean_vl_media_taxa_homicidios'),\n",
    "    F.mean('vl_avaliacao_media_ativos_fundo').alias('mean_vl_avaliacao_media_ativos_fundo'),\n",
    "    F.mean('vl_quantidade_imoveis').alias('mean_vl_quantidade_imoveis'),\n",
    "    F.first('nm_setor').alias('nm_setor'),  # Assumindo que o setor não muda\n",
    "    F.mean('vl_valor').alias('mean_vl_valor'),\n",
    "    F.mean('vl_liquidez_media_diaria').alias('mean_vl_liquidez_media_diaria'),\n",
    "    F.mean('vl_pvp').alias('mean_vl_pvp'),\n",
    "    F.mean('vl_dividendo').alias('mean_vl_dividendo'),\n",
    "    F.mean('vl_patrimonio').alias('mean_vl_patrimonio'),\n",
    "    F.mean('vl_vpa').alias('mean_vl_vpa'),\n",
    "    F.mean('vl_volatility').alias('mean_vl_volatility'),\n",
    "    F.mean('vl_numero_cotista').alias('mean_vl_numero_cotista')\n",
    ")"
   ]
  },
  {
   "cell_type": "code",
   "execution_count": 108,
   "id": "24989a30-687a-40c0-9a1b-0f5f965477a4",
   "metadata": {},
   "outputs": [],
   "source": [
    "from pyspark.ml.feature import StringIndexer, OneHotEncoder\n",
    "\n",
    "indexer = StringIndexer(inputCol='nm_setor', outputCol='nm_setor_indexed')\n",
    "encoder = OneHotEncoder(inputCols=['nm_setor_indexed'], outputCols=['nm_setor_encoded'])\n"
   ]
  },
  {
   "cell_type": "code",
   "execution_count": 111,
   "id": "6b294aac-15d9-402c-b275-2721803c6fbd",
   "metadata": {},
   "outputs": [],
   "source": [
    "from pyspark.ml.feature import VectorAssembler, StandardScaler, PCA\n",
    "from pyspark.ml.clustering import KMeans \n",
    "from pyspark.ml import Pipeline\n",
    "\n",
    "def cria_pipeline_kmeans_cluster(aggregated_data):\n",
    "    seed = 1224\n",
    "\n",
    "    # Passo 1: Indexação e Codificação de 'nm_setor'\n",
    "    indexer = StringIndexer(inputCol='nm_setor', outputCol='nm_setor_indexed')\n",
    "    encoder = OneHotEncoder(inputCols=['nm_setor_indexed'], outputCols=['nm_setor_encoded'])\n",
    "\n",
    "    # Passo 2: Seleção das Features\n",
    "    feature_columns = [\n",
    "        'mean_vl_media_taxa_homicidios',\n",
    "        'mean_vl_avaliacao_media_ativos_fundo',\n",
    "        'mean_vl_quantidade_imoveis',\n",
    "        'mean_vl_valor',\n",
    "        'mean_vl_liquidez_media_diaria',\n",
    "        'mean_vl_pvp',\n",
    "        'mean_vl_dividendo',\n",
    "        'mean_vl_patrimonio',\n",
    "        'mean_vl_vpa',\n",
    "        'mean_vl_volatility',\n",
    "        'mean_vl_numero_cotista',\n",
    "        'nm_setor_encoded'  # Feature categórica codificada\n",
    "    ]\n",
    "\n",
    "    assembler = VectorAssembler(inputCols=feature_columns, outputCol='features')\n",
    "\n",
    "    # Passo 3: Escalonamento\n",
    "    scaler = StandardScaler(inputCol='features', outputCol='scaled_features')\n",
    "\n",
    "    # Passo 4: PCA (opcional, pode ser útil para visualizar em 2D, mas pode não ser necessário para clustering)\n",
    "    pca = PCA(k=2, inputCol='scaled_features', outputCol='pca_features')\n",
    "\n",
    "    # Passo 5: KMeans\n",
    "    kmeans = KMeans(featuresCol='scaled_features', predictionCol='cluster').setK(5).setSeed(seed)\n",
    "\n",
    "    # Construção do Pipeline\n",
    "    pipeline = Pipeline(stages=[indexer, encoder, assembler, scaler, kmeans])\n",
    "\n",
    "    # Treinamento do Pipeline\n",
    "    pipeline_model = pipeline.fit(aggregated_data) \n",
    "\n",
    "    # Aplicação do Pipeline\n",
    "    predictions = pipeline_model.transform(aggregated_data)\n",
    "\n",
    "    # Extração das Features PCA para Visualização\n",
    "    from pyspark.ml.functions import vector_to_array\n",
    "    pca_feature_xy = predictions.withColumn('x', vector_to_array('pca_features')[0])\\\n",
    "                                .withColumn('y', vector_to_array('pca_features')[1])\\\n",
    "                                .select(['x', 'y', 'cluster', 'nm_titulo'])\n",
    "\n",
    "    # Visualização com Plotly\n",
    "    import plotly.express as px\n",
    "    fig = px.scatter(pca_feature_xy.toPandas(), x='x', y='y', color='cluster',\n",
    "                     hover_data=['nm_titulo'])\n",
    "    fig.show()\n",
    "\n",
    "    return pipeline_model"
   ]
  },
  {
   "cell_type": "code",
   "execution_count": 119,
   "id": "6648b28e-915e-4840-b9a4-9e89b7cc8807",
   "metadata": {},
   "outputs": [
    {
     "name": "stdout",
     "output_type": "stream",
     "text": [
      "Erro ao treinar o modelo: An error occurred while calling o678.fit.\n",
      ": org.apache.spark.SparkException: Job aborted due to stage failure: Task 1 in stage 9.0 failed 1 times, most recent failure: Lost task 1.0 in stage 9.0 (TID 73) (TI0045592.tokiomarine.com.br executor driver): org.apache.spark.SparkException: Python worker failed to connect back.\n",
      "\tat org.apache.spark.api.python.PythonWorkerFactory.createSimpleWorker(PythonWorkerFactory.scala:203)\n",
      "\tat org.apache.spark.api.python.PythonWorkerFactory.create(PythonWorkerFactory.scala:109)\n",
      "\tat org.apache.spark.SparkEnv.createPythonWorker(SparkEnv.scala:124)\n",
      "\tat org.apache.spark.api.python.BasePythonRunner.compute(PythonRunner.scala:174)\n",
      "\tat org.apache.spark.api.python.PythonRDD.compute(PythonRDD.scala:67)\n",
      "\tat org.apache.spark.rdd.RDD.computeOrReadCheckpoint(RDD.scala:367)\n",
      "\tat org.apache.spark.rdd.RDD.iterator(RDD.scala:331)\n",
      "\tat org.apache.spark.rdd.MapPartitionsRDD.compute(MapPartitionsRDD.scala:52)\n",
      "\tat org.apache.spark.rdd.RDD.computeOrReadCheckpoint(RDD.scala:367)\n",
      "\tat org.apache.spark.rdd.RDD.iterator(RDD.scala:331)\n",
      "\tat org.apache.spark.rdd.MapPartitionsRDD.compute(MapPartitionsRDD.scala:52)\n",
      "\tat org.apache.spark.rdd.RDD.computeOrReadCheckpoint(RDD.scala:367)\n",
      "\tat org.apache.spark.rdd.RDD.iterator(RDD.scala:331)\n",
      "\tat org.apache.spark.rdd.MapPartitionsRDD.compute(MapPartitionsRDD.scala:52)\n",
      "\tat org.apache.spark.rdd.RDD.computeOrReadCheckpoint(RDD.scala:367)\n",
      "\tat org.apache.spark.rdd.RDD.iterator(RDD.scala:331)\n",
      "\tat org.apache.spark.rdd.MapPartitionsRDD.compute(MapPartitionsRDD.scala:52)\n",
      "\tat org.apache.spark.rdd.RDD.computeOrReadCheckpoint(RDD.scala:367)\n",
      "\tat org.apache.spark.rdd.RDD.iterator(RDD.scala:331)\n",
      "\tat org.apache.spark.rdd.MapPartitionsRDD.compute(MapPartitionsRDD.scala:52)\n",
      "\tat org.apache.spark.rdd.RDD.computeOrReadCheckpoint(RDD.scala:367)\n",
      "\tat org.apache.spark.rdd.RDD.iterator(RDD.scala:331)\n",
      "\tat org.apache.spark.rdd.MapPartitionsRDD.compute(MapPartitionsRDD.scala:52)\n",
      "\tat org.apache.spark.rdd.RDD.computeOrReadCheckpoint(RDD.scala:367)\n",
      "\tat org.apache.spark.rdd.RDD.iterator(RDD.scala:331)\n",
      "\tat org.apache.spark.shuffle.ShuffleWriteProcessor.write(ShuffleWriteProcessor.scala:59)\n",
      "\tat org.apache.spark.scheduler.ShuffleMapTask.runTask(ShuffleMapTask.scala:104)\n",
      "\tat org.apache.spark.scheduler.ShuffleMapTask.runTask(ShuffleMapTask.scala:54)\n",
      "\tat org.apache.spark.TaskContext.runTaskWithListeners(TaskContext.scala:166)\n",
      "\tat org.apache.spark.scheduler.Task.run(Task.scala:141)\n",
      "\tat org.apache.spark.executor.Executor$TaskRunner.$anonfun$run$4(Executor.scala:620)\n",
      "\tat org.apache.spark.executor.Executor$TaskRunner$$Lambda$2452/0x507a0848.apply(Unknown Source)\n",
      "\tat org.apache.spark.util.SparkErrorUtils.tryWithSafeFinally(SparkErrorUtils.scala:64)\n",
      "\tat org.apache.spark.util.SparkErrorUtils.tryWithSafeFinally$(SparkErrorUtils.scala:61)\n",
      "\tat org.apache.spark.util.Utils$.tryWithSafeFinally(Utils.scala:94)\n",
      "\tat org.apache.spark.executor.Executor$TaskRunner.run(Executor.scala:623)\n",
      "\tat java.util.concurrent.ThreadPoolExecutor.runWorker(ThreadPoolExecutor.java:1160)\n",
      "\tat java.util.concurrent.ThreadPoolExecutor$Worker.run(ThreadPoolExecutor.java:635)\n",
      "\tat java.lang.Thread.run(Thread.java:822)\n",
      "Caused by: java.net.SocketTimeoutException: Accept timed out\n",
      "\tat java.net.DualStackPlainSocketImpl.waitForNewConnection(Native Method)\n",
      "\tat java.net.DualStackPlainSocketImpl.socketAccept(DualStackPlainSocketImpl.java:146)\n",
      "\tat java.net.AbstractPlainSocketImpl.accept(AbstractPlainSocketImpl.java:450)\n",
      "\tat java.net.PlainSocketImpl.accept(PlainSocketImpl.java:210)\n",
      "\tat java.net.ServerSocket.implAccept(ServerSocket.java:623)\n",
      "\tat java.net.ServerSocket.accept(ServerSocket.java:582)\n",
      "\tat org.apache.spark.api.python.PythonWorkerFactory.createSimpleWorker(PythonWorkerFactory.scala:190)\n",
      "\t... 38 more\n",
      "\n",
      "Driver stacktrace:\n",
      "\tat org.apache.spark.scheduler.DAGScheduler.failJobAndIndependentStages(DAGScheduler.scala:2856)\n",
      "\tat org.apache.spark.scheduler.DAGScheduler.$anonfun$abortStage$2(DAGScheduler.scala:2792)\n",
      "\tat org.apache.spark.scheduler.DAGScheduler.$anonfun$abortStage$2$adapted(DAGScheduler.scala:2791)\n",
      "\tat org.apache.spark.scheduler.DAGScheduler$$Lambda$2781/0x51ca9628.apply(Unknown Source)\n",
      "\tat scala.collection.mutable.ResizableArray.foreach(ResizableArray.scala:62)\n",
      "\tat scala.collection.mutable.ResizableArray.foreach$(ResizableArray.scala:55)\n",
      "\tat scala.collection.mutable.ArrayBuffer.foreach(ArrayBuffer.scala:49)\n",
      "\tat org.apache.spark.scheduler.DAGScheduler.abortStage(DAGScheduler.scala:2791)\n",
      "\tat org.apache.spark.scheduler.DAGScheduler.$anonfun$handleTaskSetFailed$1(DAGScheduler.scala:1247)\n",
      "\tat org.apache.spark.scheduler.DAGScheduler.$anonfun$handleTaskSetFailed$1$adapted(DAGScheduler.scala:1247)\n",
      "\tat org.apache.spark.scheduler.DAGScheduler$$Lambda$2778/0x51ca7e20.apply(Unknown Source)\n",
      "\tat scala.Option.foreach(Option.scala:407)\n",
      "\tat org.apache.spark.scheduler.DAGScheduler.handleTaskSetFailed(DAGScheduler.scala:1247)\n",
      "\tat org.apache.spark.scheduler.DAGSchedulerEventProcessLoop.doOnReceive(DAGScheduler.scala:3060)\n",
      "\tat org.apache.spark.scheduler.DAGSchedulerEventProcessLoop.onReceive(DAGScheduler.scala:2994)\n",
      "\tat org.apache.spark.scheduler.DAGSchedulerEventProcessLoop.onReceive(DAGScheduler.scala:2983)\n",
      "\tat org.apache.spark.util.EventLoop$$anon$1.run(EventLoop.scala:49)\n",
      "Caused by: org.apache.spark.SparkException: Python worker failed to connect back.\n",
      "\tat org.apache.spark.api.python.PythonWorkerFactory.createSimpleWorker(PythonWorkerFactory.scala:203)\n",
      "\tat org.apache.spark.api.python.PythonWorkerFactory.create(PythonWorkerFactory.scala:109)\n",
      "\tat org.apache.spark.SparkEnv.createPythonWorker(SparkEnv.scala:124)\n",
      "\tat org.apache.spark.api.python.BasePythonRunner.compute(PythonRunner.scala:174)\n",
      "\tat org.apache.spark.api.python.PythonRDD.compute(PythonRDD.scala:67)\n",
      "\tat org.apache.spark.rdd.RDD.computeOrReadCheckpoint(RDD.scala:367)\n",
      "\tat org.apache.spark.rdd.RDD.iterator(RDD.scala:331)\n",
      "\tat org.apache.spark.rdd.MapPartitionsRDD.compute(MapPartitionsRDD.scala:52)\n",
      "\tat org.apache.spark.rdd.RDD.computeOrReadCheckpoint(RDD.scala:367)\n",
      "\tat org.apache.spark.rdd.RDD.iterator(RDD.scala:331)\n",
      "\tat org.apache.spark.rdd.MapPartitionsRDD.compute(MapPartitionsRDD.scala:52)\n",
      "\tat org.apache.spark.rdd.RDD.computeOrReadCheckpoint(RDD.scala:367)\n",
      "\tat org.apache.spark.rdd.RDD.iterator(RDD.scala:331)\n",
      "\tat org.apache.spark.rdd.MapPartitionsRDD.compute(MapPartitionsRDD.scala:52)\n",
      "\tat org.apache.spark.rdd.RDD.computeOrReadCheckpoint(RDD.scala:367)\n",
      "\tat org.apache.spark.rdd.RDD.iterator(RDD.scala:331)\n",
      "\tat org.apache.spark.rdd.MapPartitionsRDD.compute(MapPartitionsRDD.scala:52)\n",
      "\tat org.apache.spark.rdd.RDD.computeOrReadCheckpoint(RDD.scala:367)\n",
      "\tat org.apache.spark.rdd.RDD.iterator(RDD.scala:331)\n",
      "\tat org.apache.spark.rdd.MapPartitionsRDD.compute(MapPartitionsRDD.scala:52)\n",
      "\tat org.apache.spark.rdd.RDD.computeOrReadCheckpoint(RDD.scala:367)\n",
      "\tat org.apache.spark.rdd.RDD.iterator(RDD.scala:331)\n",
      "\tat org.apache.spark.rdd.MapPartitionsRDD.compute(MapPartitionsRDD.scala:52)\n",
      "\tat org.apache.spark.rdd.RDD.computeOrReadCheckpoint(RDD.scala:367)\n",
      "\tat org.apache.spark.rdd.RDD.iterator(RDD.scala:331)\n",
      "\tat org.apache.spark.shuffle.ShuffleWriteProcessor.write(ShuffleWriteProcessor.scala:59)\n",
      "\tat org.apache.spark.scheduler.ShuffleMapTask.runTask(ShuffleMapTask.scala:104)\n",
      "\tat org.apache.spark.scheduler.ShuffleMapTask.runTask(ShuffleMapTask.scala:54)\n",
      "\tat org.apache.spark.TaskContext.runTaskWithListeners(TaskContext.scala:166)\n",
      "\tat org.apache.spark.scheduler.Task.run(Task.scala:141)\n",
      "\tat org.apache.spark.executor.Executor$TaskRunner.$anonfun$run$4(Executor.scala:620)\n",
      "\tat org.apache.spark.executor.Executor$TaskRunner$$Lambda$2452/0x507a0848.apply(Unknown Source)\n",
      "\tat org.apache.spark.util.SparkErrorUtils.tryWithSafeFinally(SparkErrorUtils.scala:64)\n",
      "\tat org.apache.spark.util.SparkErrorUtils.tryWithSafeFinally$(SparkErrorUtils.scala:61)\n",
      "\tat org.apache.spark.util.Utils$.tryWithSafeFinally(Utils.scala:94)\n",
      "\tat org.apache.spark.executor.Executor$TaskRunner.run(Executor.scala:623)\n",
      "\tat java.util.concurrent.ThreadPoolExecutor.runWorker(ThreadPoolExecutor.java:1160)\n",
      "\tat java.util.concurrent.ThreadPoolExecutor$Worker.run(ThreadPoolExecutor.java:635)\n",
      "\tat java.lang.Thread.run(Thread.java:822)\n",
      "Caused by: java.net.SocketTimeoutException: Accept timed out\n",
      "\tat java.net.DualStackPlainSocketImpl.waitForNewConnection(Native Method)\n",
      "\tat java.net.DualStackPlainSocketImpl.socketAccept(DualStackPlainSocketImpl.java:146)\n",
      "\tat java.net.AbstractPlainSocketImpl.accept(AbstractPlainSocketImpl.java:450)\n",
      "\tat java.net.PlainSocketImpl.accept(PlainSocketImpl.java:210)\n",
      "\tat java.net.ServerSocket.implAccept(ServerSocket.java:623)\n",
      "\tat java.net.ServerSocket.accept(ServerSocket.java:582)\n",
      "\tat org.apache.spark.api.python.PythonWorkerFactory.createSimpleWorker(PythonWorkerFactory.scala:190)\n",
      "\t... 38 more\n",
      "\n"
     ]
    }
   ],
   "source": [
    "pipeline_model = cria_pipeline_kmeans_cluster(aggregated_data_sample)"
   ]
  }
 ],
 "metadata": {
  "kernelspec": {
   "display_name": "Python 3 (ipykernel)",
   "language": "python",
   "name": "python3"
  },
  "language_info": {
   "codemirror_mode": {
    "name": "ipython",
    "version": 3
   },
   "file_extension": ".py",
   "mimetype": "text/x-python",
   "name": "python",
   "nbconvert_exporter": "python",
   "pygments_lexer": "ipython3",
   "version": "3.12.4"
  }
 },
 "nbformat": 4,
 "nbformat_minor": 5
}
